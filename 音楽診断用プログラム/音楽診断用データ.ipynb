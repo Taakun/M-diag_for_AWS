{
 "cells": [
  {
   "cell_type": "code",
   "execution_count": 9,
   "id": "27598a8b-3535-4820-afd4-9ed813f634c6",
   "metadata": {},
   "outputs": [],
   "source": [
    "import pandas as pd\n",
    "import spotipy\n",
    "from spotipy.oauth2 import SpotifyClientCredentials\n",
    "from sklearn import preprocessing\n",
    "import random\n",
    "import numpy as np\n",
    "from sklearn.impute import SimpleImputer"
   ]
  },
  {
   "cell_type": "code",
   "execution_count": 2,
   "id": "5eb43d99-984d-4e1e-b16f-766a57118dea",
   "metadata": {},
   "outputs": [],
   "source": [
    "# spotify developerから取得したclient_idとclient_secretを入力\n",
    "client_id = \"18308f0d5b8049c89ee330d9cfa4bc58\"  # client ID\n",
    "client_secret = \"eff59f147eac4c8db8a9f190336aa548\"  # client secret\n",
    "\n",
    "client_credentials_manager = SpotifyClientCredentials(client_id, client_secret)\n",
    "sp = spotipy.Spotify(client_credentials_manager=client_credentials_manager, language='ja')"
   ]
  },
  {
   "cell_type": "code",
   "execution_count": 10,
   "id": "3b79abc1-447b-424e-b72b-bde2de5b831b",
   "metadata": {
    "tags": []
   },
   "outputs": [],
   "source": [
    "# プレイリスト内の楽曲idをすべて取得する関数\n",
    "def getTrackIDs(playlist_ids): # 引数はプレイリストのid\n",
    "    track_ids = []\n",
    "    track_url = []\n",
    "\n",
    "    for playlist_id in playlist_ids:\n",
    "        playlist = sp.playlist(playlist_id)\n",
    "        while playlist[\"tracks\"][\"next\"]:\n",
    "            for item in playlist[\"tracks\"][\"items\"]:\n",
    "                track = item[\"track\"]\n",
    "                if not track[\"id\"] in track_ids:\n",
    "                    track_ids.append(track[\"id\"])\n",
    "            playlist[\"tracks\"] = sp.next(playlist[\"tracks\"])\n",
    "        else:\n",
    "            for item in playlist[\"tracks\"][\"items\"]:\n",
    "                track = item[\"track\"]\n",
    "                if not track[\"id\"] in track_ids:\n",
    "                    track_ids.append(track[\"id\"])\n",
    "    return track_ids\n",
    "\n",
    "# 楽曲ごとのデータを取得する関数\n",
    "def getTrackFeatures(id): # 引数は楽曲のid\n",
    "    meta = sp.track(id)\n",
    "    features = sp.audio_features(id)\n",
    "\n",
    "    name = meta[\"name\"]\n",
    "    album = meta[\"album\"][\"name\"]\n",
    "    artist = meta[\"album\"][\"artists\"][0][\"name\"]\n",
    "    release_date = meta[\"album\"][\"release_date\"]\n",
    "    length = meta[\"duration_ms\"]\n",
    "    popularity = meta[\"popularity\"]\n",
    "    url = meta['external_urls']['spotify']\n",
    "    image = meta[\"album\"]['images'][0][\"url\"]\n",
    "    audio = meta[\"preview_url\"]\n",
    "    key = features[0][\"key\"]\n",
    "    mode = features[0][\"mode\"]\n",
    "    danceability = features[0][\"danceability\"]\n",
    "    acousticness = features[0][\"acousticness\"]\n",
    "    energy = features[0][\"energy\"]\n",
    "    instrumentalness = features[0][\"instrumentalness\"]\n",
    "    liveness = features[0][\"liveness\"]\n",
    "    loudness = features[0][\"loudness\"]\n",
    "    speechiness = features[0][\"speechiness\"]\n",
    "    tempo = features[0][\"tempo\"]\n",
    "    time_signature = features[0][\"time_signature\"]\n",
    "    valence = features[0][\"valence\"]\n",
    "\n",
    "    track = [name,album,artist,release_date,length,popularity,url,image,audio,key,mode,danceability,acousticness,energy,instrumentalness,liveness,loudness,speechiness,tempo,time_signature,valence,]\n",
    "    return track\n",
    "\n",
    "# IDで指定したプレイリストの楽曲情報をcsvファイルに保存する関数\n",
    "def playlist(playlist_ids,csv_name):\n",
    "    # SpotifyのプレイリストのIDを入力(複数でも可能)(複数の場合、楽曲の重複は許さない)\n",
    "    track_ids = getTrackIDs(playlist_ids)\n",
    "\n",
    "    tracks = [] # 楽曲を格納するリスト\n",
    "\n",
    "    for track_id in track_ids:\n",
    "        track = getTrackFeatures(track_id)\n",
    "        tracks.append(track)\n",
    "    \n",
    "    df = pd.DataFrame(tracks, columns = ['name', 'album', 'artist', 'release_date', 'length', 'popularity', 'url', 'image', 'audio', 'key', 'mode', 'danceability', 'acousticness', 'energy', 'instrumentalness', 'liveness', 'loudness', 'speechiness', 'tempo', 'time_signature', 'valence'])\n",
    "    df.to_csv(csv_name, sep = ',', encoding='utf_8_sig')\n",
    "    return df\n",
    "    \n",
    "# データを正規化+欠損値を補完してcsvファイルに保存する関数\n",
    "def Normal(df,csv_name):\n",
    "    # データを正規化\n",
    "    mm = preprocessing.MinMaxScaler()\n",
    "    df_mm=df[['length', 'popularity', 'danceability', 'acousticness', 'energy', 'loudness', 'tempo',  'valence']]\n",
    "    df_mm = mm.fit_transform(df_mm)\n",
    "    df_mm = pd.DataFrame(df_mm, columns=['length', 'popularity', 'danceability', 'acousticness', 'energy', 'loudness', 'tempo',  'valence'])\n",
    "    df_mm.insert(0, \"release_date\", df[\"release_date\"])\n",
    "    df_mm.insert(0, \"artist\", df[\"artist\"])\n",
    "    df_mm.insert(0, \"name\", df[\"name\"])\n",
    "    df_mm.insert(len(df_mm.columns),\"url\", df[\"url\"])\n",
    "    df_mm.insert(len(df_mm.columns),\"image\", df[\"image\"])\n",
    "    df_mm.insert(len(df_mm.columns),\"audio\", df[\"audio\"])\n",
    "    df_mm[\"loudness\"]=df_mm[\"loudness\"].abs()\n",
    "    \n",
    "    #Dataframe値をarrayで読込\n",
    "    X = df_mm.iloc[:,:14].values\n",
    "    #インスタンス生成・平均値補完\n",
    "    si = SimpleImputer(missing_values=np.nan, strategy='constant',fill_value='なし')\n",
    "    #補完\n",
    "    X = si.fit_transform(X)\n",
    "    #新規のDataFrameを生成\n",
    "    df_mm = pd.DataFrame(X,columns=list(df_mm.columns))\n",
    "    \n",
    "    df_mm.to_csv(csv_name, sep = ',', encoding='utf_8_sig')"
   ]
  },
  {
   "cell_type": "code",
   "execution_count": null,
   "id": "fdd50045-cfb9-4f91-ab6d-43c253297c7a",
   "metadata": {},
   "outputs": [],
   "source": [
    "ID=[\"37i9dQZEVXbMDoHDwVN2tF?si=ae6390e6d9b64392\"]\n",
    "playlist(ID,'spotify_data_sample.csv')"
   ]
  },
  {
   "cell_type": "code",
   "execution_count": 5,
   "id": "d97767cc-ee21-4bd4-b136-1c3def14060a",
   "metadata": {},
   "outputs": [],
   "source": [
    "# 練習\n",
    "ID=[\"0Qs4nw7ipSICLfXqOKWWLV?si=196e1e3462a54e56\"]\n",
    "df=playlist(ID,'spotify_data_global.csv')"
   ]
  },
  {
   "cell_type": "code",
   "execution_count": 73,
   "id": "e4f11723-3150-4403-a6f4-f1e95fa33cfb",
   "metadata": {
    "collapsed": true,
    "jupyter": {
     "outputs_hidden": true
    },
    "tags": []
   },
   "outputs": [
    {
     "ename": "ConnectionError",
     "evalue": "('Connection aborted.', ConnectionResetError(10054, '既存の接続はリモート ホストに強制的に切断されました。', None, 10054, None))",
     "output_type": "error",
     "traceback": [
      "\u001b[1;31m---------------------------------------------------------------------------\u001b[0m",
      "\u001b[1;31mConnectionResetError\u001b[0m                      Traceback (most recent call last)",
      "\u001b[1;32mC:\\anaconda3\\lib\\site-packages\\urllib3\\connectionpool.py\u001b[0m in \u001b[0;36murlopen\u001b[1;34m(self, method, url, body, headers, retries, redirect, assert_same_host, timeout, pool_timeout, release_conn, chunked, body_pos, **response_kw)\u001b[0m\n\u001b[0;32m    698\u001b[0m             \u001b[1;31m# Make the request on the httplib connection object.\u001b[0m\u001b[1;33m\u001b[0m\u001b[1;33m\u001b[0m\u001b[0m\n\u001b[1;32m--> 699\u001b[1;33m             httplib_response = self._make_request(\n\u001b[0m\u001b[0;32m    700\u001b[0m                 \u001b[0mconn\u001b[0m\u001b[1;33m,\u001b[0m\u001b[1;33m\u001b[0m\u001b[1;33m\u001b[0m\u001b[0m\n",
      "\u001b[1;32mC:\\anaconda3\\lib\\site-packages\\urllib3\\connectionpool.py\u001b[0m in \u001b[0;36m_make_request\u001b[1;34m(self, conn, method, url, timeout, chunked, **httplib_request_kw)\u001b[0m\n\u001b[0;32m    444\u001b[0m                     \u001b[1;31m# Otherwise it looks like a bug in the code.\u001b[0m\u001b[1;33m\u001b[0m\u001b[1;33m\u001b[0m\u001b[0m\n\u001b[1;32m--> 445\u001b[1;33m                     \u001b[0msix\u001b[0m\u001b[1;33m.\u001b[0m\u001b[0mraise_from\u001b[0m\u001b[1;33m(\u001b[0m\u001b[0me\u001b[0m\u001b[1;33m,\u001b[0m \u001b[1;32mNone\u001b[0m\u001b[1;33m)\u001b[0m\u001b[1;33m\u001b[0m\u001b[1;33m\u001b[0m\u001b[0m\n\u001b[0m\u001b[0;32m    446\u001b[0m         \u001b[1;32mexcept\u001b[0m \u001b[1;33m(\u001b[0m\u001b[0mSocketTimeout\u001b[0m\u001b[1;33m,\u001b[0m \u001b[0mBaseSSLError\u001b[0m\u001b[1;33m,\u001b[0m \u001b[0mSocketError\u001b[0m\u001b[1;33m)\u001b[0m \u001b[1;32mas\u001b[0m \u001b[0me\u001b[0m\u001b[1;33m:\u001b[0m\u001b[1;33m\u001b[0m\u001b[1;33m\u001b[0m\u001b[0m\n",
      "\u001b[1;32mC:\\anaconda3\\lib\\site-packages\\urllib3\\packages\\six.py\u001b[0m in \u001b[0;36mraise_from\u001b[1;34m(value, from_value)\u001b[0m\n",
      "\u001b[1;32mC:\\anaconda3\\lib\\site-packages\\urllib3\\connectionpool.py\u001b[0m in \u001b[0;36m_make_request\u001b[1;34m(self, conn, method, url, timeout, chunked, **httplib_request_kw)\u001b[0m\n\u001b[0;32m    439\u001b[0m                 \u001b[1;32mtry\u001b[0m\u001b[1;33m:\u001b[0m\u001b[1;33m\u001b[0m\u001b[1;33m\u001b[0m\u001b[0m\n\u001b[1;32m--> 440\u001b[1;33m                     \u001b[0mhttplib_response\u001b[0m \u001b[1;33m=\u001b[0m \u001b[0mconn\u001b[0m\u001b[1;33m.\u001b[0m\u001b[0mgetresponse\u001b[0m\u001b[1;33m(\u001b[0m\u001b[1;33m)\u001b[0m\u001b[1;33m\u001b[0m\u001b[1;33m\u001b[0m\u001b[0m\n\u001b[0m\u001b[0;32m    441\u001b[0m                 \u001b[1;32mexcept\u001b[0m \u001b[0mBaseException\u001b[0m \u001b[1;32mas\u001b[0m \u001b[0me\u001b[0m\u001b[1;33m:\u001b[0m\u001b[1;33m\u001b[0m\u001b[1;33m\u001b[0m\u001b[0m\n",
      "\u001b[1;32mC:\\anaconda3\\lib\\http\\client.py\u001b[0m in \u001b[0;36mgetresponse\u001b[1;34m(self)\u001b[0m\n\u001b[0;32m   1370\u001b[0m             \u001b[1;32mtry\u001b[0m\u001b[1;33m:\u001b[0m\u001b[1;33m\u001b[0m\u001b[1;33m\u001b[0m\u001b[0m\n\u001b[1;32m-> 1371\u001b[1;33m                 \u001b[0mresponse\u001b[0m\u001b[1;33m.\u001b[0m\u001b[0mbegin\u001b[0m\u001b[1;33m(\u001b[0m\u001b[1;33m)\u001b[0m\u001b[1;33m\u001b[0m\u001b[1;33m\u001b[0m\u001b[0m\n\u001b[0m\u001b[0;32m   1372\u001b[0m             \u001b[1;32mexcept\u001b[0m \u001b[0mConnectionError\u001b[0m\u001b[1;33m:\u001b[0m\u001b[1;33m\u001b[0m\u001b[1;33m\u001b[0m\u001b[0m\n",
      "\u001b[1;32mC:\\anaconda3\\lib\\http\\client.py\u001b[0m in \u001b[0;36mbegin\u001b[1;34m(self)\u001b[0m\n\u001b[0;32m    318\u001b[0m         \u001b[1;32mwhile\u001b[0m \u001b[1;32mTrue\u001b[0m\u001b[1;33m:\u001b[0m\u001b[1;33m\u001b[0m\u001b[1;33m\u001b[0m\u001b[0m\n\u001b[1;32m--> 319\u001b[1;33m             \u001b[0mversion\u001b[0m\u001b[1;33m,\u001b[0m \u001b[0mstatus\u001b[0m\u001b[1;33m,\u001b[0m \u001b[0mreason\u001b[0m \u001b[1;33m=\u001b[0m \u001b[0mself\u001b[0m\u001b[1;33m.\u001b[0m\u001b[0m_read_status\u001b[0m\u001b[1;33m(\u001b[0m\u001b[1;33m)\u001b[0m\u001b[1;33m\u001b[0m\u001b[1;33m\u001b[0m\u001b[0m\n\u001b[0m\u001b[0;32m    320\u001b[0m             \u001b[1;32mif\u001b[0m \u001b[0mstatus\u001b[0m \u001b[1;33m!=\u001b[0m \u001b[0mCONTINUE\u001b[0m\u001b[1;33m:\u001b[0m\u001b[1;33m\u001b[0m\u001b[1;33m\u001b[0m\u001b[0m\n",
      "\u001b[1;32mC:\\anaconda3\\lib\\http\\client.py\u001b[0m in \u001b[0;36m_read_status\u001b[1;34m(self)\u001b[0m\n\u001b[0;32m    279\u001b[0m     \u001b[1;32mdef\u001b[0m \u001b[0m_read_status\u001b[0m\u001b[1;33m(\u001b[0m\u001b[0mself\u001b[0m\u001b[1;33m)\u001b[0m\u001b[1;33m:\u001b[0m\u001b[1;33m\u001b[0m\u001b[1;33m\u001b[0m\u001b[0m\n\u001b[1;32m--> 280\u001b[1;33m         \u001b[0mline\u001b[0m \u001b[1;33m=\u001b[0m \u001b[0mstr\u001b[0m\u001b[1;33m(\u001b[0m\u001b[0mself\u001b[0m\u001b[1;33m.\u001b[0m\u001b[0mfp\u001b[0m\u001b[1;33m.\u001b[0m\u001b[0mreadline\u001b[0m\u001b[1;33m(\u001b[0m\u001b[0m_MAXLINE\u001b[0m \u001b[1;33m+\u001b[0m \u001b[1;36m1\u001b[0m\u001b[1;33m)\u001b[0m\u001b[1;33m,\u001b[0m \u001b[1;34m\"iso-8859-1\"\u001b[0m\u001b[1;33m)\u001b[0m\u001b[1;33m\u001b[0m\u001b[1;33m\u001b[0m\u001b[0m\n\u001b[0m\u001b[0;32m    281\u001b[0m         \u001b[1;32mif\u001b[0m \u001b[0mlen\u001b[0m\u001b[1;33m(\u001b[0m\u001b[0mline\u001b[0m\u001b[1;33m)\u001b[0m \u001b[1;33m>\u001b[0m \u001b[0m_MAXLINE\u001b[0m\u001b[1;33m:\u001b[0m\u001b[1;33m\u001b[0m\u001b[1;33m\u001b[0m\u001b[0m\n",
      "\u001b[1;32mC:\\anaconda3\\lib\\socket.py\u001b[0m in \u001b[0;36mreadinto\u001b[1;34m(self, b)\u001b[0m\n\u001b[0;32m    703\u001b[0m             \u001b[1;32mtry\u001b[0m\u001b[1;33m:\u001b[0m\u001b[1;33m\u001b[0m\u001b[1;33m\u001b[0m\u001b[0m\n\u001b[1;32m--> 704\u001b[1;33m                 \u001b[1;32mreturn\u001b[0m \u001b[0mself\u001b[0m\u001b[1;33m.\u001b[0m\u001b[0m_sock\u001b[0m\u001b[1;33m.\u001b[0m\u001b[0mrecv_into\u001b[0m\u001b[1;33m(\u001b[0m\u001b[0mb\u001b[0m\u001b[1;33m)\u001b[0m\u001b[1;33m\u001b[0m\u001b[1;33m\u001b[0m\u001b[0m\n\u001b[0m\u001b[0;32m    705\u001b[0m             \u001b[1;32mexcept\u001b[0m \u001b[0mtimeout\u001b[0m\u001b[1;33m:\u001b[0m\u001b[1;33m\u001b[0m\u001b[1;33m\u001b[0m\u001b[0m\n",
      "\u001b[1;32mC:\\anaconda3\\lib\\ssl.py\u001b[0m in \u001b[0;36mrecv_into\u001b[1;34m(self, buffer, nbytes, flags)\u001b[0m\n\u001b[0;32m   1240\u001b[0m                   self.__class__)\n\u001b[1;32m-> 1241\u001b[1;33m             \u001b[1;32mreturn\u001b[0m \u001b[0mself\u001b[0m\u001b[1;33m.\u001b[0m\u001b[0mread\u001b[0m\u001b[1;33m(\u001b[0m\u001b[0mnbytes\u001b[0m\u001b[1;33m,\u001b[0m \u001b[0mbuffer\u001b[0m\u001b[1;33m)\u001b[0m\u001b[1;33m\u001b[0m\u001b[1;33m\u001b[0m\u001b[0m\n\u001b[0m\u001b[0;32m   1242\u001b[0m         \u001b[1;32melse\u001b[0m\u001b[1;33m:\u001b[0m\u001b[1;33m\u001b[0m\u001b[1;33m\u001b[0m\u001b[0m\n",
      "\u001b[1;32mC:\\anaconda3\\lib\\ssl.py\u001b[0m in \u001b[0;36mread\u001b[1;34m(self, len, buffer)\u001b[0m\n\u001b[0;32m   1098\u001b[0m             \u001b[1;32mif\u001b[0m \u001b[0mbuffer\u001b[0m \u001b[1;32mis\u001b[0m \u001b[1;32mnot\u001b[0m \u001b[1;32mNone\u001b[0m\u001b[1;33m:\u001b[0m\u001b[1;33m\u001b[0m\u001b[1;33m\u001b[0m\u001b[0m\n\u001b[1;32m-> 1099\u001b[1;33m                 \u001b[1;32mreturn\u001b[0m \u001b[0mself\u001b[0m\u001b[1;33m.\u001b[0m\u001b[0m_sslobj\u001b[0m\u001b[1;33m.\u001b[0m\u001b[0mread\u001b[0m\u001b[1;33m(\u001b[0m\u001b[0mlen\u001b[0m\u001b[1;33m,\u001b[0m \u001b[0mbuffer\u001b[0m\u001b[1;33m)\u001b[0m\u001b[1;33m\u001b[0m\u001b[1;33m\u001b[0m\u001b[0m\n\u001b[0m\u001b[0;32m   1100\u001b[0m             \u001b[1;32melse\u001b[0m\u001b[1;33m:\u001b[0m\u001b[1;33m\u001b[0m\u001b[1;33m\u001b[0m\u001b[0m\n",
      "\u001b[1;31mConnectionResetError\u001b[0m: [WinError 10054] 既存の接続はリモート ホストに強制的に切断されました。",
      "\nDuring handling of the above exception, another exception occurred:\n",
      "\u001b[1;31mProtocolError\u001b[0m                             Traceback (most recent call last)",
      "\u001b[1;32mC:\\anaconda3\\lib\\site-packages\\requests\\adapters.py\u001b[0m in \u001b[0;36msend\u001b[1;34m(self, request, stream, timeout, verify, cert, proxies)\u001b[0m\n\u001b[0;32m    438\u001b[0m             \u001b[1;32mif\u001b[0m \u001b[1;32mnot\u001b[0m \u001b[0mchunked\u001b[0m\u001b[1;33m:\u001b[0m\u001b[1;33m\u001b[0m\u001b[1;33m\u001b[0m\u001b[0m\n\u001b[1;32m--> 439\u001b[1;33m                 resp = conn.urlopen(\n\u001b[0m\u001b[0;32m    440\u001b[0m                     \u001b[0mmethod\u001b[0m\u001b[1;33m=\u001b[0m\u001b[0mrequest\u001b[0m\u001b[1;33m.\u001b[0m\u001b[0mmethod\u001b[0m\u001b[1;33m,\u001b[0m\u001b[1;33m\u001b[0m\u001b[1;33m\u001b[0m\u001b[0m\n",
      "\u001b[1;32mC:\\anaconda3\\lib\\site-packages\\urllib3\\connectionpool.py\u001b[0m in \u001b[0;36murlopen\u001b[1;34m(self, method, url, body, headers, retries, redirect, assert_same_host, timeout, pool_timeout, release_conn, chunked, body_pos, **response_kw)\u001b[0m\n\u001b[0;32m    754\u001b[0m \u001b[1;33m\u001b[0m\u001b[0m\n\u001b[1;32m--> 755\u001b[1;33m             retries = retries.increment(\n\u001b[0m\u001b[0;32m    756\u001b[0m                 \u001b[0mmethod\u001b[0m\u001b[1;33m,\u001b[0m \u001b[0murl\u001b[0m\u001b[1;33m,\u001b[0m \u001b[0merror\u001b[0m\u001b[1;33m=\u001b[0m\u001b[0me\u001b[0m\u001b[1;33m,\u001b[0m \u001b[0m_pool\u001b[0m\u001b[1;33m=\u001b[0m\u001b[0mself\u001b[0m\u001b[1;33m,\u001b[0m \u001b[0m_stacktrace\u001b[0m\u001b[1;33m=\u001b[0m\u001b[0msys\u001b[0m\u001b[1;33m.\u001b[0m\u001b[0mexc_info\u001b[0m\u001b[1;33m(\u001b[0m\u001b[1;33m)\u001b[0m\u001b[1;33m[\u001b[0m\u001b[1;36m2\u001b[0m\u001b[1;33m]\u001b[0m\u001b[1;33m\u001b[0m\u001b[1;33m\u001b[0m\u001b[0m\n",
      "\u001b[1;32mC:\\anaconda3\\lib\\site-packages\\urllib3\\util\\retry.py\u001b[0m in \u001b[0;36mincrement\u001b[1;34m(self, method, url, response, error, _pool, _stacktrace)\u001b[0m\n\u001b[0;32m    531\u001b[0m             \u001b[1;32mif\u001b[0m \u001b[0mread\u001b[0m \u001b[1;32mis\u001b[0m \u001b[1;32mFalse\u001b[0m \u001b[1;32mor\u001b[0m \u001b[1;32mnot\u001b[0m \u001b[0mself\u001b[0m\u001b[1;33m.\u001b[0m\u001b[0m_is_method_retryable\u001b[0m\u001b[1;33m(\u001b[0m\u001b[0mmethod\u001b[0m\u001b[1;33m)\u001b[0m\u001b[1;33m:\u001b[0m\u001b[1;33m\u001b[0m\u001b[1;33m\u001b[0m\u001b[0m\n\u001b[1;32m--> 532\u001b[1;33m                 \u001b[1;32mraise\u001b[0m \u001b[0msix\u001b[0m\u001b[1;33m.\u001b[0m\u001b[0mreraise\u001b[0m\u001b[1;33m(\u001b[0m\u001b[0mtype\u001b[0m\u001b[1;33m(\u001b[0m\u001b[0merror\u001b[0m\u001b[1;33m)\u001b[0m\u001b[1;33m,\u001b[0m \u001b[0merror\u001b[0m\u001b[1;33m,\u001b[0m \u001b[0m_stacktrace\u001b[0m\u001b[1;33m)\u001b[0m\u001b[1;33m\u001b[0m\u001b[1;33m\u001b[0m\u001b[0m\n\u001b[0m\u001b[0;32m    533\u001b[0m             \u001b[1;32melif\u001b[0m \u001b[0mread\u001b[0m \u001b[1;32mis\u001b[0m \u001b[1;32mnot\u001b[0m \u001b[1;32mNone\u001b[0m\u001b[1;33m:\u001b[0m\u001b[1;33m\u001b[0m\u001b[1;33m\u001b[0m\u001b[0m\n",
      "\u001b[1;32mC:\\anaconda3\\lib\\site-packages\\urllib3\\packages\\six.py\u001b[0m in \u001b[0;36mreraise\u001b[1;34m(tp, value, tb)\u001b[0m\n\u001b[0;32m    768\u001b[0m             \u001b[1;32mif\u001b[0m \u001b[0mvalue\u001b[0m\u001b[1;33m.\u001b[0m\u001b[0m__traceback__\u001b[0m \u001b[1;32mis\u001b[0m \u001b[1;32mnot\u001b[0m \u001b[0mtb\u001b[0m\u001b[1;33m:\u001b[0m\u001b[1;33m\u001b[0m\u001b[1;33m\u001b[0m\u001b[0m\n\u001b[1;32m--> 769\u001b[1;33m                 \u001b[1;32mraise\u001b[0m \u001b[0mvalue\u001b[0m\u001b[1;33m.\u001b[0m\u001b[0mwith_traceback\u001b[0m\u001b[1;33m(\u001b[0m\u001b[0mtb\u001b[0m\u001b[1;33m)\u001b[0m\u001b[1;33m\u001b[0m\u001b[1;33m\u001b[0m\u001b[0m\n\u001b[0m\u001b[0;32m    770\u001b[0m             \u001b[1;32mraise\u001b[0m \u001b[0mvalue\u001b[0m\u001b[1;33m\u001b[0m\u001b[1;33m\u001b[0m\u001b[0m\n",
      "\u001b[1;32mC:\\anaconda3\\lib\\site-packages\\urllib3\\connectionpool.py\u001b[0m in \u001b[0;36murlopen\u001b[1;34m(self, method, url, body, headers, retries, redirect, assert_same_host, timeout, pool_timeout, release_conn, chunked, body_pos, **response_kw)\u001b[0m\n\u001b[0;32m    698\u001b[0m             \u001b[1;31m# Make the request on the httplib connection object.\u001b[0m\u001b[1;33m\u001b[0m\u001b[1;33m\u001b[0m\u001b[0m\n\u001b[1;32m--> 699\u001b[1;33m             httplib_response = self._make_request(\n\u001b[0m\u001b[0;32m    700\u001b[0m                 \u001b[0mconn\u001b[0m\u001b[1;33m,\u001b[0m\u001b[1;33m\u001b[0m\u001b[1;33m\u001b[0m\u001b[0m\n",
      "\u001b[1;32mC:\\anaconda3\\lib\\site-packages\\urllib3\\connectionpool.py\u001b[0m in \u001b[0;36m_make_request\u001b[1;34m(self, conn, method, url, timeout, chunked, **httplib_request_kw)\u001b[0m\n\u001b[0;32m    444\u001b[0m                     \u001b[1;31m# Otherwise it looks like a bug in the code.\u001b[0m\u001b[1;33m\u001b[0m\u001b[1;33m\u001b[0m\u001b[0m\n\u001b[1;32m--> 445\u001b[1;33m                     \u001b[0msix\u001b[0m\u001b[1;33m.\u001b[0m\u001b[0mraise_from\u001b[0m\u001b[1;33m(\u001b[0m\u001b[0me\u001b[0m\u001b[1;33m,\u001b[0m \u001b[1;32mNone\u001b[0m\u001b[1;33m)\u001b[0m\u001b[1;33m\u001b[0m\u001b[1;33m\u001b[0m\u001b[0m\n\u001b[0m\u001b[0;32m    446\u001b[0m         \u001b[1;32mexcept\u001b[0m \u001b[1;33m(\u001b[0m\u001b[0mSocketTimeout\u001b[0m\u001b[1;33m,\u001b[0m \u001b[0mBaseSSLError\u001b[0m\u001b[1;33m,\u001b[0m \u001b[0mSocketError\u001b[0m\u001b[1;33m)\u001b[0m \u001b[1;32mas\u001b[0m \u001b[0me\u001b[0m\u001b[1;33m:\u001b[0m\u001b[1;33m\u001b[0m\u001b[1;33m\u001b[0m\u001b[0m\n",
      "\u001b[1;32mC:\\anaconda3\\lib\\site-packages\\urllib3\\packages\\six.py\u001b[0m in \u001b[0;36mraise_from\u001b[1;34m(value, from_value)\u001b[0m\n",
      "\u001b[1;32mC:\\anaconda3\\lib\\site-packages\\urllib3\\connectionpool.py\u001b[0m in \u001b[0;36m_make_request\u001b[1;34m(self, conn, method, url, timeout, chunked, **httplib_request_kw)\u001b[0m\n\u001b[0;32m    439\u001b[0m                 \u001b[1;32mtry\u001b[0m\u001b[1;33m:\u001b[0m\u001b[1;33m\u001b[0m\u001b[1;33m\u001b[0m\u001b[0m\n\u001b[1;32m--> 440\u001b[1;33m                     \u001b[0mhttplib_response\u001b[0m \u001b[1;33m=\u001b[0m \u001b[0mconn\u001b[0m\u001b[1;33m.\u001b[0m\u001b[0mgetresponse\u001b[0m\u001b[1;33m(\u001b[0m\u001b[1;33m)\u001b[0m\u001b[1;33m\u001b[0m\u001b[1;33m\u001b[0m\u001b[0m\n\u001b[0m\u001b[0;32m    441\u001b[0m                 \u001b[1;32mexcept\u001b[0m \u001b[0mBaseException\u001b[0m \u001b[1;32mas\u001b[0m \u001b[0me\u001b[0m\u001b[1;33m:\u001b[0m\u001b[1;33m\u001b[0m\u001b[1;33m\u001b[0m\u001b[0m\n",
      "\u001b[1;32mC:\\anaconda3\\lib\\http\\client.py\u001b[0m in \u001b[0;36mgetresponse\u001b[1;34m(self)\u001b[0m\n\u001b[0;32m   1370\u001b[0m             \u001b[1;32mtry\u001b[0m\u001b[1;33m:\u001b[0m\u001b[1;33m\u001b[0m\u001b[1;33m\u001b[0m\u001b[0m\n\u001b[1;32m-> 1371\u001b[1;33m                 \u001b[0mresponse\u001b[0m\u001b[1;33m.\u001b[0m\u001b[0mbegin\u001b[0m\u001b[1;33m(\u001b[0m\u001b[1;33m)\u001b[0m\u001b[1;33m\u001b[0m\u001b[1;33m\u001b[0m\u001b[0m\n\u001b[0m\u001b[0;32m   1372\u001b[0m             \u001b[1;32mexcept\u001b[0m \u001b[0mConnectionError\u001b[0m\u001b[1;33m:\u001b[0m\u001b[1;33m\u001b[0m\u001b[1;33m\u001b[0m\u001b[0m\n",
      "\u001b[1;32mC:\\anaconda3\\lib\\http\\client.py\u001b[0m in \u001b[0;36mbegin\u001b[1;34m(self)\u001b[0m\n\u001b[0;32m    318\u001b[0m         \u001b[1;32mwhile\u001b[0m \u001b[1;32mTrue\u001b[0m\u001b[1;33m:\u001b[0m\u001b[1;33m\u001b[0m\u001b[1;33m\u001b[0m\u001b[0m\n\u001b[1;32m--> 319\u001b[1;33m             \u001b[0mversion\u001b[0m\u001b[1;33m,\u001b[0m \u001b[0mstatus\u001b[0m\u001b[1;33m,\u001b[0m \u001b[0mreason\u001b[0m \u001b[1;33m=\u001b[0m \u001b[0mself\u001b[0m\u001b[1;33m.\u001b[0m\u001b[0m_read_status\u001b[0m\u001b[1;33m(\u001b[0m\u001b[1;33m)\u001b[0m\u001b[1;33m\u001b[0m\u001b[1;33m\u001b[0m\u001b[0m\n\u001b[0m\u001b[0;32m    320\u001b[0m             \u001b[1;32mif\u001b[0m \u001b[0mstatus\u001b[0m \u001b[1;33m!=\u001b[0m \u001b[0mCONTINUE\u001b[0m\u001b[1;33m:\u001b[0m\u001b[1;33m\u001b[0m\u001b[1;33m\u001b[0m\u001b[0m\n",
      "\u001b[1;32mC:\\anaconda3\\lib\\http\\client.py\u001b[0m in \u001b[0;36m_read_status\u001b[1;34m(self)\u001b[0m\n\u001b[0;32m    279\u001b[0m     \u001b[1;32mdef\u001b[0m \u001b[0m_read_status\u001b[0m\u001b[1;33m(\u001b[0m\u001b[0mself\u001b[0m\u001b[1;33m)\u001b[0m\u001b[1;33m:\u001b[0m\u001b[1;33m\u001b[0m\u001b[1;33m\u001b[0m\u001b[0m\n\u001b[1;32m--> 280\u001b[1;33m         \u001b[0mline\u001b[0m \u001b[1;33m=\u001b[0m \u001b[0mstr\u001b[0m\u001b[1;33m(\u001b[0m\u001b[0mself\u001b[0m\u001b[1;33m.\u001b[0m\u001b[0mfp\u001b[0m\u001b[1;33m.\u001b[0m\u001b[0mreadline\u001b[0m\u001b[1;33m(\u001b[0m\u001b[0m_MAXLINE\u001b[0m \u001b[1;33m+\u001b[0m \u001b[1;36m1\u001b[0m\u001b[1;33m)\u001b[0m\u001b[1;33m,\u001b[0m \u001b[1;34m\"iso-8859-1\"\u001b[0m\u001b[1;33m)\u001b[0m\u001b[1;33m\u001b[0m\u001b[1;33m\u001b[0m\u001b[0m\n\u001b[0m\u001b[0;32m    281\u001b[0m         \u001b[1;32mif\u001b[0m \u001b[0mlen\u001b[0m\u001b[1;33m(\u001b[0m\u001b[0mline\u001b[0m\u001b[1;33m)\u001b[0m \u001b[1;33m>\u001b[0m \u001b[0m_MAXLINE\u001b[0m\u001b[1;33m:\u001b[0m\u001b[1;33m\u001b[0m\u001b[1;33m\u001b[0m\u001b[0m\n",
      "\u001b[1;32mC:\\anaconda3\\lib\\socket.py\u001b[0m in \u001b[0;36mreadinto\u001b[1;34m(self, b)\u001b[0m\n\u001b[0;32m    703\u001b[0m             \u001b[1;32mtry\u001b[0m\u001b[1;33m:\u001b[0m\u001b[1;33m\u001b[0m\u001b[1;33m\u001b[0m\u001b[0m\n\u001b[1;32m--> 704\u001b[1;33m                 \u001b[1;32mreturn\u001b[0m \u001b[0mself\u001b[0m\u001b[1;33m.\u001b[0m\u001b[0m_sock\u001b[0m\u001b[1;33m.\u001b[0m\u001b[0mrecv_into\u001b[0m\u001b[1;33m(\u001b[0m\u001b[0mb\u001b[0m\u001b[1;33m)\u001b[0m\u001b[1;33m\u001b[0m\u001b[1;33m\u001b[0m\u001b[0m\n\u001b[0m\u001b[0;32m    705\u001b[0m             \u001b[1;32mexcept\u001b[0m \u001b[0mtimeout\u001b[0m\u001b[1;33m:\u001b[0m\u001b[1;33m\u001b[0m\u001b[1;33m\u001b[0m\u001b[0m\n",
      "\u001b[1;32mC:\\anaconda3\\lib\\ssl.py\u001b[0m in \u001b[0;36mrecv_into\u001b[1;34m(self, buffer, nbytes, flags)\u001b[0m\n\u001b[0;32m   1240\u001b[0m                   self.__class__)\n\u001b[1;32m-> 1241\u001b[1;33m             \u001b[1;32mreturn\u001b[0m \u001b[0mself\u001b[0m\u001b[1;33m.\u001b[0m\u001b[0mread\u001b[0m\u001b[1;33m(\u001b[0m\u001b[0mnbytes\u001b[0m\u001b[1;33m,\u001b[0m \u001b[0mbuffer\u001b[0m\u001b[1;33m)\u001b[0m\u001b[1;33m\u001b[0m\u001b[1;33m\u001b[0m\u001b[0m\n\u001b[0m\u001b[0;32m   1242\u001b[0m         \u001b[1;32melse\u001b[0m\u001b[1;33m:\u001b[0m\u001b[1;33m\u001b[0m\u001b[1;33m\u001b[0m\u001b[0m\n",
      "\u001b[1;32mC:\\anaconda3\\lib\\ssl.py\u001b[0m in \u001b[0;36mread\u001b[1;34m(self, len, buffer)\u001b[0m\n\u001b[0;32m   1098\u001b[0m             \u001b[1;32mif\u001b[0m \u001b[0mbuffer\u001b[0m \u001b[1;32mis\u001b[0m \u001b[1;32mnot\u001b[0m \u001b[1;32mNone\u001b[0m\u001b[1;33m:\u001b[0m\u001b[1;33m\u001b[0m\u001b[1;33m\u001b[0m\u001b[0m\n\u001b[1;32m-> 1099\u001b[1;33m                 \u001b[1;32mreturn\u001b[0m \u001b[0mself\u001b[0m\u001b[1;33m.\u001b[0m\u001b[0m_sslobj\u001b[0m\u001b[1;33m.\u001b[0m\u001b[0mread\u001b[0m\u001b[1;33m(\u001b[0m\u001b[0mlen\u001b[0m\u001b[1;33m,\u001b[0m \u001b[0mbuffer\u001b[0m\u001b[1;33m)\u001b[0m\u001b[1;33m\u001b[0m\u001b[1;33m\u001b[0m\u001b[0m\n\u001b[0m\u001b[0;32m   1100\u001b[0m             \u001b[1;32melse\u001b[0m\u001b[1;33m:\u001b[0m\u001b[1;33m\u001b[0m\u001b[1;33m\u001b[0m\u001b[0m\n",
      "\u001b[1;31mProtocolError\u001b[0m: ('Connection aborted.', ConnectionResetError(10054, '既存の接続はリモート ホストに強制的に切断されました。', None, 10054, None))",
      "\nDuring handling of the above exception, another exception occurred:\n",
      "\u001b[1;31mConnectionError\u001b[0m                           Traceback (most recent call last)",
      "\u001b[1;32m~\\AppData\\Local\\Temp/ipykernel_25772/572645835.py\u001b[0m in \u001b[0;36m<module>\u001b[1;34m\u001b[0m\n\u001b[0;32m      1\u001b[0m \u001b[0mID\u001b[0m\u001b[1;33m=\u001b[0m\u001b[1;33m[\u001b[0m\u001b[1;34m\"0Qs4nw7ipSICLfXqOKWWLV?si=196e1e3462a54e56\"\u001b[0m\u001b[1;33m]\u001b[0m \u001b[1;31m# 練習用\u001b[0m\u001b[1;33m\u001b[0m\u001b[1;33m\u001b[0m\u001b[0m\n\u001b[1;32m----> 2\u001b[1;33m \u001b[0mIDs\u001b[0m\u001b[1;33m=\u001b[0m\u001b[0mgetTrackIDs\u001b[0m\u001b[1;33m(\u001b[0m\u001b[0mID\u001b[0m\u001b[1;33m)\u001b[0m\u001b[1;33m\u001b[0m\u001b[1;33m\u001b[0m\u001b[0m\n\u001b[0m",
      "\u001b[1;32m~\\AppData\\Local\\Temp/ipykernel_25772/1952239684.py\u001b[0m in \u001b[0;36mgetTrackIDs\u001b[1;34m(playlist_ids)\u001b[0m\n\u001b[0;32m      5\u001b[0m \u001b[1;33m\u001b[0m\u001b[0m\n\u001b[0;32m      6\u001b[0m     \u001b[1;32mfor\u001b[0m \u001b[0mplaylist_id\u001b[0m \u001b[1;32min\u001b[0m \u001b[0mplaylist_ids\u001b[0m\u001b[1;33m:\u001b[0m\u001b[1;33m\u001b[0m\u001b[1;33m\u001b[0m\u001b[0m\n\u001b[1;32m----> 7\u001b[1;33m         \u001b[0mplaylist\u001b[0m \u001b[1;33m=\u001b[0m \u001b[0msp\u001b[0m\u001b[1;33m.\u001b[0m\u001b[0mplaylist\u001b[0m\u001b[1;33m(\u001b[0m\u001b[0mplaylist_id\u001b[0m\u001b[1;33m)\u001b[0m\u001b[1;33m\u001b[0m\u001b[1;33m\u001b[0m\u001b[0m\n\u001b[0m\u001b[0;32m      8\u001b[0m         \u001b[1;32mwhile\u001b[0m \u001b[0mplaylist\u001b[0m\u001b[1;33m[\u001b[0m\u001b[1;34m\"tracks\"\u001b[0m\u001b[1;33m]\u001b[0m\u001b[1;33m[\u001b[0m\u001b[1;34m\"next\"\u001b[0m\u001b[1;33m]\u001b[0m\u001b[1;33m:\u001b[0m\u001b[1;33m\u001b[0m\u001b[1;33m\u001b[0m\u001b[0m\n\u001b[0;32m      9\u001b[0m             \u001b[1;32mfor\u001b[0m \u001b[0mitem\u001b[0m \u001b[1;32min\u001b[0m \u001b[0mplaylist\u001b[0m\u001b[1;33m[\u001b[0m\u001b[1;34m\"tracks\"\u001b[0m\u001b[1;33m]\u001b[0m\u001b[1;33m[\u001b[0m\u001b[1;34m\"items\"\u001b[0m\u001b[1;33m]\u001b[0m\u001b[1;33m:\u001b[0m\u001b[1;33m\u001b[0m\u001b[1;33m\u001b[0m\u001b[0m\n",
      "\u001b[1;32mC:\\anaconda3\\lib\\site-packages\\spotipy\\client.py\u001b[0m in \u001b[0;36mplaylist\u001b[1;34m(self, playlist_id, fields, market, additional_types)\u001b[0m\n\u001b[0;32m    615\u001b[0m         \"\"\"\n\u001b[0;32m    616\u001b[0m         \u001b[0mplid\u001b[0m \u001b[1;33m=\u001b[0m \u001b[0mself\u001b[0m\u001b[1;33m.\u001b[0m\u001b[0m_get_id\u001b[0m\u001b[1;33m(\u001b[0m\u001b[1;34m\"playlist\"\u001b[0m\u001b[1;33m,\u001b[0m \u001b[0mplaylist_id\u001b[0m\u001b[1;33m)\u001b[0m\u001b[1;33m\u001b[0m\u001b[1;33m\u001b[0m\u001b[0m\n\u001b[1;32m--> 617\u001b[1;33m         return self._get(\n\u001b[0m\u001b[0;32m    618\u001b[0m             \u001b[1;34m\"playlists/%s\"\u001b[0m \u001b[1;33m%\u001b[0m \u001b[1;33m(\u001b[0m\u001b[0mplid\u001b[0m\u001b[1;33m)\u001b[0m\u001b[1;33m,\u001b[0m\u001b[1;33m\u001b[0m\u001b[1;33m\u001b[0m\u001b[0m\n\u001b[0;32m    619\u001b[0m             \u001b[0mfields\u001b[0m\u001b[1;33m=\u001b[0m\u001b[0mfields\u001b[0m\u001b[1;33m,\u001b[0m\u001b[1;33m\u001b[0m\u001b[1;33m\u001b[0m\u001b[0m\n",
      "\u001b[1;32mC:\\anaconda3\\lib\\site-packages\\spotipy\\client.py\u001b[0m in \u001b[0;36m_get\u001b[1;34m(self, url, args, payload, **kwargs)\u001b[0m\n\u001b[0;32m    295\u001b[0m             \u001b[0mkwargs\u001b[0m\u001b[1;33m.\u001b[0m\u001b[0mupdate\u001b[0m\u001b[1;33m(\u001b[0m\u001b[0margs\u001b[0m\u001b[1;33m)\u001b[0m\u001b[1;33m\u001b[0m\u001b[1;33m\u001b[0m\u001b[0m\n\u001b[0;32m    296\u001b[0m \u001b[1;33m\u001b[0m\u001b[0m\n\u001b[1;32m--> 297\u001b[1;33m         \u001b[1;32mreturn\u001b[0m \u001b[0mself\u001b[0m\u001b[1;33m.\u001b[0m\u001b[0m_internal_call\u001b[0m\u001b[1;33m(\u001b[0m\u001b[1;34m\"GET\"\u001b[0m\u001b[1;33m,\u001b[0m \u001b[0murl\u001b[0m\u001b[1;33m,\u001b[0m \u001b[0mpayload\u001b[0m\u001b[1;33m,\u001b[0m \u001b[0mkwargs\u001b[0m\u001b[1;33m)\u001b[0m\u001b[1;33m\u001b[0m\u001b[1;33m\u001b[0m\u001b[0m\n\u001b[0m\u001b[0;32m    298\u001b[0m \u001b[1;33m\u001b[0m\u001b[0m\n\u001b[0;32m    299\u001b[0m     \u001b[1;32mdef\u001b[0m \u001b[0m_post\u001b[0m\u001b[1;33m(\u001b[0m\u001b[0mself\u001b[0m\u001b[1;33m,\u001b[0m \u001b[0murl\u001b[0m\u001b[1;33m,\u001b[0m \u001b[0margs\u001b[0m\u001b[1;33m=\u001b[0m\u001b[1;32mNone\u001b[0m\u001b[1;33m,\u001b[0m \u001b[0mpayload\u001b[0m\u001b[1;33m=\u001b[0m\u001b[1;32mNone\u001b[0m\u001b[1;33m,\u001b[0m \u001b[1;33m**\u001b[0m\u001b[0mkwargs\u001b[0m\u001b[1;33m)\u001b[0m\u001b[1;33m:\u001b[0m\u001b[1;33m\u001b[0m\u001b[1;33m\u001b[0m\u001b[0m\n",
      "\u001b[1;32mC:\\anaconda3\\lib\\site-packages\\spotipy\\client.py\u001b[0m in \u001b[0;36m_internal_call\u001b[1;34m(self, method, url, payload, params)\u001b[0m\n\u001b[0;32m    238\u001b[0m \u001b[1;33m\u001b[0m\u001b[0m\n\u001b[0;32m    239\u001b[0m         \u001b[1;32mtry\u001b[0m\u001b[1;33m:\u001b[0m\u001b[1;33m\u001b[0m\u001b[1;33m\u001b[0m\u001b[0m\n\u001b[1;32m--> 240\u001b[1;33m             response = self._session.request(\n\u001b[0m\u001b[0;32m    241\u001b[0m                 \u001b[0mmethod\u001b[0m\u001b[1;33m,\u001b[0m \u001b[0murl\u001b[0m\u001b[1;33m,\u001b[0m \u001b[0mheaders\u001b[0m\u001b[1;33m=\u001b[0m\u001b[0mheaders\u001b[0m\u001b[1;33m,\u001b[0m \u001b[0mproxies\u001b[0m\u001b[1;33m=\u001b[0m\u001b[0mself\u001b[0m\u001b[1;33m.\u001b[0m\u001b[0mproxies\u001b[0m\u001b[1;33m,\u001b[0m\u001b[1;33m\u001b[0m\u001b[1;33m\u001b[0m\u001b[0m\n\u001b[0;32m    242\u001b[0m                 \u001b[0mtimeout\u001b[0m\u001b[1;33m=\u001b[0m\u001b[0mself\u001b[0m\u001b[1;33m.\u001b[0m\u001b[0mrequests_timeout\u001b[0m\u001b[1;33m,\u001b[0m \u001b[1;33m**\u001b[0m\u001b[0margs\u001b[0m\u001b[1;33m\u001b[0m\u001b[1;33m\u001b[0m\u001b[0m\n",
      "\u001b[1;32mC:\\anaconda3\\lib\\site-packages\\requests\\sessions.py\u001b[0m in \u001b[0;36mrequest\u001b[1;34m(self, method, url, params, data, headers, cookies, files, auth, timeout, allow_redirects, proxies, hooks, stream, verify, cert, json)\u001b[0m\n\u001b[0;32m    540\u001b[0m         }\n\u001b[0;32m    541\u001b[0m         \u001b[0msend_kwargs\u001b[0m\u001b[1;33m.\u001b[0m\u001b[0mupdate\u001b[0m\u001b[1;33m(\u001b[0m\u001b[0msettings\u001b[0m\u001b[1;33m)\u001b[0m\u001b[1;33m\u001b[0m\u001b[1;33m\u001b[0m\u001b[0m\n\u001b[1;32m--> 542\u001b[1;33m         \u001b[0mresp\u001b[0m \u001b[1;33m=\u001b[0m \u001b[0mself\u001b[0m\u001b[1;33m.\u001b[0m\u001b[0msend\u001b[0m\u001b[1;33m(\u001b[0m\u001b[0mprep\u001b[0m\u001b[1;33m,\u001b[0m \u001b[1;33m**\u001b[0m\u001b[0msend_kwargs\u001b[0m\u001b[1;33m)\u001b[0m\u001b[1;33m\u001b[0m\u001b[1;33m\u001b[0m\u001b[0m\n\u001b[0m\u001b[0;32m    543\u001b[0m \u001b[1;33m\u001b[0m\u001b[0m\n\u001b[0;32m    544\u001b[0m         \u001b[1;32mreturn\u001b[0m \u001b[0mresp\u001b[0m\u001b[1;33m\u001b[0m\u001b[1;33m\u001b[0m\u001b[0m\n",
      "\u001b[1;32mC:\\anaconda3\\lib\\site-packages\\requests\\sessions.py\u001b[0m in \u001b[0;36msend\u001b[1;34m(self, request, **kwargs)\u001b[0m\n\u001b[0;32m    653\u001b[0m \u001b[1;33m\u001b[0m\u001b[0m\n\u001b[0;32m    654\u001b[0m         \u001b[1;31m# Send the request\u001b[0m\u001b[1;33m\u001b[0m\u001b[1;33m\u001b[0m\u001b[0m\n\u001b[1;32m--> 655\u001b[1;33m         \u001b[0mr\u001b[0m \u001b[1;33m=\u001b[0m \u001b[0madapter\u001b[0m\u001b[1;33m.\u001b[0m\u001b[0msend\u001b[0m\u001b[1;33m(\u001b[0m\u001b[0mrequest\u001b[0m\u001b[1;33m,\u001b[0m \u001b[1;33m**\u001b[0m\u001b[0mkwargs\u001b[0m\u001b[1;33m)\u001b[0m\u001b[1;33m\u001b[0m\u001b[1;33m\u001b[0m\u001b[0m\n\u001b[0m\u001b[0;32m    656\u001b[0m \u001b[1;33m\u001b[0m\u001b[0m\n\u001b[0;32m    657\u001b[0m         \u001b[1;31m# Total elapsed time of the request (approximately)\u001b[0m\u001b[1;33m\u001b[0m\u001b[1;33m\u001b[0m\u001b[0m\n",
      "\u001b[1;32mC:\\anaconda3\\lib\\site-packages\\requests\\adapters.py\u001b[0m in \u001b[0;36msend\u001b[1;34m(self, request, stream, timeout, verify, cert, proxies)\u001b[0m\n\u001b[0;32m    496\u001b[0m \u001b[1;33m\u001b[0m\u001b[0m\n\u001b[0;32m    497\u001b[0m         \u001b[1;32mexcept\u001b[0m \u001b[1;33m(\u001b[0m\u001b[0mProtocolError\u001b[0m\u001b[1;33m,\u001b[0m \u001b[0msocket\u001b[0m\u001b[1;33m.\u001b[0m\u001b[0merror\u001b[0m\u001b[1;33m)\u001b[0m \u001b[1;32mas\u001b[0m \u001b[0merr\u001b[0m\u001b[1;33m:\u001b[0m\u001b[1;33m\u001b[0m\u001b[1;33m\u001b[0m\u001b[0m\n\u001b[1;32m--> 498\u001b[1;33m             \u001b[1;32mraise\u001b[0m \u001b[0mConnectionError\u001b[0m\u001b[1;33m(\u001b[0m\u001b[0merr\u001b[0m\u001b[1;33m,\u001b[0m \u001b[0mrequest\u001b[0m\u001b[1;33m=\u001b[0m\u001b[0mrequest\u001b[0m\u001b[1;33m)\u001b[0m\u001b[1;33m\u001b[0m\u001b[1;33m\u001b[0m\u001b[0m\n\u001b[0m\u001b[0;32m    499\u001b[0m \u001b[1;33m\u001b[0m\u001b[0m\n\u001b[0;32m    500\u001b[0m         \u001b[1;32mexcept\u001b[0m \u001b[0mMaxRetryError\u001b[0m \u001b[1;32mas\u001b[0m \u001b[0me\u001b[0m\u001b[1;33m:\u001b[0m\u001b[1;33m\u001b[0m\u001b[1;33m\u001b[0m\u001b[0m\n",
      "\u001b[1;31mConnectionError\u001b[0m: ('Connection aborted.', ConnectionResetError(10054, '既存の接続はリモート ホストに強制的に切断されました。', None, 10054, None))"
     ]
    }
   ],
   "source": [
    "ID=[\"0Qs4nw7ipSICLfXqOKWWLV?si=196e1e3462a54e56\"] # 練習用\n",
    "IDs=getTrackIDs(ID)"
   ]
  },
  {
   "cell_type": "code",
   "execution_count": 24,
   "id": "92aa67b4-6b97-45ce-a604-a7e9a51998f7",
   "metadata": {
    "collapsed": true,
    "jupyter": {
     "outputs_hidden": true
    },
    "tags": []
   },
   "outputs": [
    {
     "name": "stdout",
     "output_type": "stream",
     "text": [
      "https://open.spotify.com/track/1YIr7kCHsECRkVclYvFRUY\n",
      "https://i.scdn.co/image/ab67616d0000b27304de30150845423a9d528a1b\n",
      "https://p.scdn.co/mp3-preview/ca552bae843c805c68169cbf67c06e9f2dc38d2b?cid=18308f0d5b8049c89ee330d9cfa4bc58\n"
     ]
    },
    {
     "data": {
      "text/plain": [
       "['キャットラビング',\n",
       " 'キャットラビング',\n",
       " '香椎モイミ',\n",
       " '2021-12-18',\n",
       " 117055,\n",
       " 51,\n",
       " 'https://open.spotify.com/track/1YIr7kCHsECRkVclYvFRUY',\n",
       " 2,\n",
       " 1,\n",
       " 0.609,\n",
       " 0.0149,\n",
       " 0.859,\n",
       " 0.835,\n",
       " 0.0167,\n",
       " -7.784,\n",
       " 0.0391,\n",
       " 163.048,\n",
       " 4,\n",
       " 0.808]"
      ]
     },
     "execution_count": 24,
     "metadata": {},
     "output_type": "execute_result"
    }
   ],
   "source": [
    "getTrackFeatures(IDs[1])"
   ]
  },
  {
   "cell_type": "code",
   "execution_count": 7,
   "id": "a903c647-6c02-464f-b132-eda1b49fd089",
   "metadata": {
    "tags": []
   },
   "outputs": [],
   "source": [
    "# 洋楽\n",
    "ID=[\"1eBroudkoPFjKfBSl6m0q9?si=04fd2fd234494dcb\",\n",
    "    \"4HSDhmLju8RKGFxMpr7JOQ?si=4e7f52d76aa2406d\"]\n",
    "df=playlist(ID,'spotify_data_global.csv')"
   ]
  },
  {
   "cell_type": "code",
   "execution_count": 11,
   "id": "f959da0d-3d5b-43b0-ad59-912b1953030b",
   "metadata": {},
   "outputs": [],
   "source": [
    "# 洋楽(正規化)\n",
    "df=pd.read_csv('spotify_data_global.csv')\n",
    "Normal(df,'spotify_data_global_mm.csv')"
   ]
  },
  {
   "cell_type": "code",
   "execution_count": 13,
   "id": "01aa7323-53f9-499d-a107-9b1da23fb1cb",
   "metadata": {
    "tags": []
   },
   "outputs": [],
   "source": [
    "# 邦楽\n",
    "ID=[\"7s6EDeIROFUDWpg7xdzcvQ?si=f6c6da5fa3bc4959\",\n",
    "    \"53Opp1EdwfHij4PVHIW16F?si=c434fb6d74ae4e68\",\n",
    "    \"7bZGTIrO8XVJFqNFR1BHez?si=01240e12f3f94585\"]\n",
    "df=playlist(ID,'spotify_data_JP_famous.csv')"
   ]
  },
  {
   "cell_type": "code",
   "execution_count": 14,
   "id": "ac2eecf8-a834-4633-a5b8-8c630bee4d8d",
   "metadata": {},
   "outputs": [],
   "source": [
    "# 邦楽(正規化)\n",
    "df=pd.read_csv('spotify_data_JP_famous.csv')\n",
    "Normal(df,'spotify_data_JP_famous_mm.csv')"
   ]
  },
  {
   "cell_type": "code",
   "execution_count": 16,
   "id": "3573302c-5988-45cf-8172-605155a89261",
   "metadata": {
    "tags": []
   },
   "outputs": [],
   "source": [
    "# ボカロ\n",
    "ID=[\"4zg739VKrRbD5z3Xj4yjgz?si=8147f91f206e40f3\",\n",
    "    \"2nZdwEso65CYx84J0h2urc?si=b14a1ed243c744a2\",\n",
    "    \"7phdTgX9Bq19f1nqutnc6o?si=dc782acaab1c4ae8\"]\n",
    "df=playlist(ID,'spotify_data_vocaloid.csv')"
   ]
  },
  {
   "cell_type": "code",
   "execution_count": 17,
   "id": "bd06666d-52bc-4865-860a-7764f3d98b7f",
   "metadata": {},
   "outputs": [],
   "source": [
    "# ボカロ(正規化)\n",
    "df=pd.read_csv('spotify_data_vocaloid.csv')\n",
    "Normal(df,'spotify_data_vocaloid_mm.csv')"
   ]
  },
  {
   "cell_type": "code",
   "execution_count": 83,
   "id": "ae85b2a4-d5de-4b49-8480-fd6c803424b0",
   "metadata": {},
   "outputs": [
    {
     "name": "stdout",
     "output_type": "stream",
     "text": [
      "最新の日本の週間トップソング(1番)とボカロ100選(2番)どっちがいいですか?\n"
     ]
    },
    {
     "name": "stdin",
     "output_type": "stream",
     "text": [
      " 1\n"
     ]
    },
    {
     "name": "stdout",
     "output_type": "stream",
     "text": [
      "踊れる曲かどうか(弱め(0)-やや弱め(1)-普通(2)-やや強め(3)-強め(4)-指定なし(5))\n"
     ]
    },
    {
     "name": "stdin",
     "output_type": "stream",
     "text": [
      " 5\n"
     ]
    },
    {
     "name": "stdout",
     "output_type": "stream",
     "text": [
      "アコースティック感(弱め(0)-やや弱め(1)-普通(2)-やや強め(3)-強め(4)-指定なし(5))\n"
     ]
    },
    {
     "name": "stdin",
     "output_type": "stream",
     "text": [
      " 5\n"
     ]
    },
    {
     "name": "stdout",
     "output_type": "stream",
     "text": [
      "エネルギッシュさ(弱め(0)-やや弱め(1)-普通(2)-やや強め(3)-強め(4)-指定なし(5))\n"
     ]
    },
    {
     "name": "stdin",
     "output_type": "stream",
     "text": [
      " 5\n"
     ]
    },
    {
     "name": "stdout",
     "output_type": "stream",
     "text": [
      "音量・音圧(弱め(0)-やや弱め(1)-普通(2)-やや強め(3)-強め(4)-指定なし(5))\n"
     ]
    },
    {
     "name": "stdin",
     "output_type": "stream",
     "text": [
      " 5\n"
     ]
    },
    {
     "name": "stdout",
     "output_type": "stream",
     "text": [
      "テンポは?(遅め(0)-やや遅め(1)-普通(2)-やや早め(3)-早め(4)-指定なし(5))\n"
     ]
    },
    {
     "name": "stdin",
     "output_type": "stream",
     "text": [
      " 5\n"
     ]
    },
    {
     "name": "stdout",
     "output_type": "stream",
     "text": [
      "悲観的か楽観的か(悲観的(0)-やや悲観的(1)-普通(2)-やや楽観的(3)-楽観的(4)-指定なし(5))\n"
     ]
    },
    {
     "name": "stdin",
     "output_type": "stream",
     "text": [
      " 5\n"
     ]
    },
    {
     "data": {
      "text/plain": [
       "[\"I'm Good (Blue)\",\n",
       " 'デヴィッド・ゲッタ',\n",
       " 'https://open.spotify.com/track/4uUG5RXrOk84mYEfFvj3cK',\n",
       " 'https://i.scdn.co/image/ab67616d0000b273933c036cd61cd40d3f17a9c4',\n",
       " 'https://p.scdn.co/mp3-preview/f387f0bdbce0f044f7bf9e2e6a87f59cd78f20a4?cid=18308f0d5b8049c89ee330d9cfa4bc58']"
      ]
     },
     "execution_count": 83,
     "metadata": {},
     "output_type": "execute_result"
    }
   ],
   "source": [
    "# 楽曲データを保存する関数関数\n",
    "def music_data(ans):# 回答を引数とする\n",
    "    if ans[0]==1:\n",
    "        df = pd.read_csv('spotify_data_global_mm.csv') # 正規化したデータ\n",
    "    elif ans[0]==2:\n",
    "        df = pd.read_csv('spotify_data_JP_famous_mm.csv')\n",
    "    elif ans[0]==3:\n",
    "        df = pd.read_csv('spotify_data_vocaloid_mm.csv')\n",
    "    return df\n",
    "\n",
    "# 楽曲をリコメンドする関数\n",
    "def music_recommend(ans,df):# 回答を引数とする\n",
    "    data=['name', 'artist', 'release_date', 'length', 'popularity', 'danceability', 'acousticness', 'energy', 'loudness', 'tempo',  'valence', 'url', 'image', 'audio']\n",
    "    df = df[data]\n",
    "    rec_music_data=[]\n",
    "    min_point=10000\n",
    "    for i in range(len(df)):\n",
    "        point=0\n",
    "        cnt=len(df)/5\n",
    "        for j in range(len(ans)-1):\n",
    "            if ans[j+1]==5:\n",
    "                point+=random.uniform(0, 1)\n",
    "            else:\n",
    "                df_sort=df.sort_values(by=data[j+5], ascending=True)\n",
    "                rand=random.uniform(df_sort.values[int(ans[j+1]*cnt)][j+5], df_sort.values[int((ans[j+1]+1)*cnt)-1][j+5])\n",
    "                point+=pow(df.values[i][j+5]-rand,2)\n",
    "        if point<min_point:\n",
    "            min_point=point\n",
    "            min_i=i\n",
    "    rec_music_data.append(df.values[min_i][0]) # リコメンドする楽曲\n",
    "    rec_music_data.append(df.values[min_i][1]) # リコメンドする楽曲のアーティスト名\n",
    "    rec_music_data.append(df.values[min_i][11]) # リコメンドする楽曲のurl\n",
    "    rec_music_data.append(df.values[min_i][12]) # リコメンドする楽曲のimage\n",
    "    rec_music_data.append(df.values[min_i][13]) # リコメンドする楽曲のaudio\n",
    "    return rec_music_data\n",
    "    \n",
    "ans=[]\n",
    "print(\"最新の日本の週間トップソング(1番)とボカロ100選(2番)どっちがいいですか?\")\n",
    "ans.append(int(input()))\n",
    "print(\"踊れる曲かどうか(弱め(0)-やや弱め(1)-普通(2)-やや強め(3)-強め(4)-指定なし(5))\")\n",
    "ans.append(int(input()))\n",
    "print(\"アコースティック感(弱め(0)-やや弱め(1)-普通(2)-やや強め(3)-強め(4)-指定なし(5))\")\n",
    "ans.append(int(input()))\n",
    "print(\"エネルギッシュさ(弱め(0)-やや弱め(1)-普通(2)-やや強め(3)-強め(4)-指定なし(5))\")\n",
    "ans.append(int(input()))\n",
    "print(\"音量・音圧(弱め(0)-やや弱め(1)-普通(2)-やや強め(3)-強め(4)-指定なし(5))\")\n",
    "ans.append(int(input()))\n",
    "print(\"テンポは?(遅め(0)-やや遅め(1)-普通(2)-やや早め(3)-早め(4)-指定なし(5))\")\n",
    "ans.append(int(input()))\n",
    "print(\"悲観的か楽観的か(悲観的(0)-やや悲観的(1)-普通(2)-やや楽観的(3)-楽観的(4)-指定なし(5))\")\n",
    "ans.append(int(input()))\n",
    "\n",
    "# レコメンド\n",
    "df=music_data(ans)\n",
    "music_recommend(ans,df)"
   ]
  },
  {
   "cell_type": "code",
   "execution_count": 64,
   "id": "08d681b6-6ac4-4e9b-97f8-0059384c8f25",
   "metadata": {},
   "outputs": [
    {
     "data": {
      "text/html": [
       "<div>\n",
       "<style scoped>\n",
       "    .dataframe tbody tr th:only-of-type {\n",
       "        vertical-align: middle;\n",
       "    }\n",
       "\n",
       "    .dataframe tbody tr th {\n",
       "        vertical-align: top;\n",
       "    }\n",
       "\n",
       "    .dataframe thead th {\n",
       "        text-align: right;\n",
       "    }\n",
       "</style>\n",
       "<table border=\"1\" class=\"dataframe\">\n",
       "  <thead>\n",
       "    <tr style=\"text-align: right;\">\n",
       "      <th></th>\n",
       "      <th>name</th>\n",
       "      <th>artist</th>\n",
       "      <th>release_date</th>\n",
       "      <th>length</th>\n",
       "      <th>popularity</th>\n",
       "      <th>danceability</th>\n",
       "      <th>acousticness</th>\n",
       "      <th>energy</th>\n",
       "      <th>loudness</th>\n",
       "      <th>tempo</th>\n",
       "      <th>valence</th>\n",
       "      <th>url</th>\n",
       "      <th>image</th>\n",
       "      <th>audio</th>\n",
       "    </tr>\n",
       "  </thead>\n",
       "  <tbody>\n",
       "    <tr>\n",
       "      <th>45</th>\n",
       "      <td>Jimmy Cooks (feat. 21 Savage)</td>\n",
       "      <td>ドレイク</td>\n",
       "      <td>2022-06-17</td>\n",
       "      <td>0.600235</td>\n",
       "      <td>0.842105</td>\n",
       "      <td>0.302479</td>\n",
       "      <td>0.000081</td>\n",
       "      <td>0.549383</td>\n",
       "      <td>0.796742</td>\n",
       "      <td>0.701766</td>\n",
       "      <td>0.272509</td>\n",
       "      <td>https://open.spotify.com/track/3F5CgOj3wFlRv51...</td>\n",
       "      <td>https://i.scdn.co/image/ab67616d0000b2738dc0d8...</td>\n",
       "      <td>なし</td>\n",
       "    </tr>\n",
       "    <tr>\n",
       "      <th>46</th>\n",
       "      <td>Mary On A Cross</td>\n",
       "      <td>Ghost</td>\n",
       "      <td>2019-09-13</td>\n",
       "      <td>0.731424</td>\n",
       "      <td>0.754386</td>\n",
       "      <td>0.198347</td>\n",
       "      <td>0.0</td>\n",
       "      <td>0.899691</td>\n",
       "      <td>0.819663</td>\n",
       "      <td>0.408787</td>\n",
       "      <td>0.506603</td>\n",
       "      <td>https://open.spotify.com/track/2HZLXBOnaSRhXSt...</td>\n",
       "      <td>https://i.scdn.co/image/ab67616d0000b273bef9b0...</td>\n",
       "      <td>なし</td>\n",
       "    </tr>\n",
       "    <tr>\n",
       "      <th>47</th>\n",
       "      <td>Ghost</td>\n",
       "      <td>ジャスティン・ビーバー</td>\n",
       "      <td>2021-03-19</td>\n",
       "      <td>0.276857</td>\n",
       "      <td>0.807018</td>\n",
       "      <td>0.421488</td>\n",
       "      <td>0.207423</td>\n",
       "      <td>0.654321</td>\n",
       "      <td>0.715476</td>\n",
       "      <td>0.604155</td>\n",
       "      <td>0.362545</td>\n",
       "      <td>https://open.spotify.com/track/6I3mqTwhRpn34SL...</td>\n",
       "      <td>https://i.scdn.co/image/ab67616d0000b273e6f407...</td>\n",
       "      <td>なし</td>\n",
       "    </tr>\n",
       "    <tr>\n",
       "      <th>48</th>\n",
       "      <td>La Corriente</td>\n",
       "      <td>バッド・バニー</td>\n",
       "      <td>2022-05-06</td>\n",
       "      <td>0.501015</td>\n",
       "      <td>0.842105</td>\n",
       "      <td>0.523967</td>\n",
       "      <td>0.256819</td>\n",
       "      <td>0.723765</td>\n",
       "      <td>0.910494</td>\n",
       "      <td>0.948212</td>\n",
       "      <td>0.528211</td>\n",
       "      <td>https://open.spotify.com/track/1797zYiX4cKosMH...</td>\n",
       "      <td>https://i.scdn.co/image/ab67616d0000b27349d694...</td>\n",
       "      <td>https://p.scdn.co/mp3-preview/5b652748ee9a5a10...</td>\n",
       "    </tr>\n",
       "    <tr>\n",
       "      <th>49</th>\n",
       "      <td>Blinding Lights</td>\n",
       "      <td>ザ・ウィークエンド</td>\n",
       "      <td>2020-03-20</td>\n",
       "      <td>0.509316</td>\n",
       "      <td>0.824561</td>\n",
       "      <td>0.277686</td>\n",
       "      <td>0.001375</td>\n",
       "      <td>0.637346</td>\n",
       "      <td>0.680905</td>\n",
       "      <td>0.743255</td>\n",
       "      <td>0.234094</td>\n",
       "      <td>https://open.spotify.com/track/0VjIjW4GlUZAMYd...</td>\n",
       "      <td>https://i.scdn.co/image/ab67616d0000b2738863bc...</td>\n",
       "      <td>なし</td>\n",
       "    </tr>\n",
       "  </tbody>\n",
       "</table>\n",
       "</div>"
      ],
      "text/plain": [
       "                             name       artist release_date    length  \\\n",
       "45  Jimmy Cooks (feat. 21 Savage)         ドレイク   2022-06-17  0.600235   \n",
       "46                Mary On A Cross        Ghost   2019-09-13  0.731424   \n",
       "47                          Ghost  ジャスティン・ビーバー   2021-03-19  0.276857   \n",
       "48                   La Corriente      バッド・バニー   2022-05-06  0.501015   \n",
       "49                Blinding Lights    ザ・ウィークエンド   2020-03-20  0.509316   \n",
       "\n",
       "   popularity danceability acousticness    energy  loudness     tempo  \\\n",
       "45   0.842105     0.302479     0.000081  0.549383  0.796742  0.701766   \n",
       "46   0.754386     0.198347          0.0  0.899691  0.819663  0.408787   \n",
       "47   0.807018     0.421488     0.207423  0.654321  0.715476  0.604155   \n",
       "48   0.842105     0.523967     0.256819  0.723765  0.910494  0.948212   \n",
       "49   0.824561     0.277686     0.001375  0.637346  0.680905  0.743255   \n",
       "\n",
       "     valence                                                url  \\\n",
       "45  0.272509  https://open.spotify.com/track/3F5CgOj3wFlRv51...   \n",
       "46  0.506603  https://open.spotify.com/track/2HZLXBOnaSRhXSt...   \n",
       "47  0.362545  https://open.spotify.com/track/6I3mqTwhRpn34SL...   \n",
       "48  0.528211  https://open.spotify.com/track/1797zYiX4cKosMH...   \n",
       "49  0.234094  https://open.spotify.com/track/0VjIjW4GlUZAMYd...   \n",
       "\n",
       "                                                image  \\\n",
       "45  https://i.scdn.co/image/ab67616d0000b2738dc0d8...   \n",
       "46  https://i.scdn.co/image/ab67616d0000b273bef9b0...   \n",
       "47  https://i.scdn.co/image/ab67616d0000b273e6f407...   \n",
       "48  https://i.scdn.co/image/ab67616d0000b27349d694...   \n",
       "49  https://i.scdn.co/image/ab67616d0000b2738863bc...   \n",
       "\n",
       "                                                audio  \n",
       "45                                                 なし  \n",
       "46                                                 なし  \n",
       "47                                                 なし  \n",
       "48  https://p.scdn.co/mp3-preview/5b652748ee9a5a10...  \n",
       "49                                                 なし  "
      ]
     },
     "execution_count": 64,
     "metadata": {},
     "output_type": "execute_result"
    }
   ],
   "source": [
    "from sklearn.impute import SimpleImputer\n",
    "data=['name', 'artist', 'release_date', 'length', 'popularity', 'danceability', 'acousticness', 'energy', 'loudness', 'tempo',  'valence', 'url', 'image', 'audio']\n",
    "df2 = df[data]\n",
    "\n",
    "#Dataframe値をarrayで読込\n",
    "X = df2.iloc[:,:14].values\n",
    "\n",
    "#インスタンス生成・平均値補完\n",
    "si = SimpleImputer(missing_values=np.nan, strategy='constant',fill_value='なし')\n",
    "\n",
    "#補完\n",
    "X = si.fit_transform(X)\n",
    "\n",
    "#新規のDataFrameを生成\n",
    "df2 = pd.DataFrame(X,columns=list(df2.columns))\n",
    "\n",
    "df2.tail()"
   ]
  },
  {
   "cell_type": "code",
   "execution_count": 85,
   "id": "2b19a6ba-5332-4f67-b8b4-80c134a7ed54",
   "metadata": {},
   "outputs": [],
   "source": [
    "def circle(values, name): # valuesは各値を入れたリスト\n",
    "    #フォントの設定\n",
    "    plt.rcParams['font.size'] = 16\n",
    "    plt.rcParams['font.family'] = 'MS Gothic'\n",
    "\n",
    "    #ラベルの設定\n",
    "    subjectNames = ['danceability', 'acousticness', 'energy', 'loudness', 'tempo', 'valence']\n",
    "    #角度の設定\n",
    "    angles = np.linspace(0, 2 * np.pi, len(subjectNames) + 1)\n",
    "\n",
    "    #データの設定\n",
    "    scores = np.array(values)\n",
    "    values = np.concatenate([scores, [scores[0]]])\n",
    "\n",
    "    #グラフの描画\n",
    "    fig = plt.figure()\n",
    "    ax = fig.add_subplot(111, polar = True)\n",
    "\n",
    "    #塗りつぶし\n",
    "    ax.fill(angles, values, alpha=0.3)\n",
    "\n",
    "    # 項目ラベルの表示\n",
    "    ax.set_rlim(0, 1)\n",
    "\n",
    "    #θ軸ラベルの設定(弧度法)\n",
    "    labels = [f'{subjectNames[i]}' for i in range(0, len(subjectNames))]\n",
    "    ax.set_thetagrids(np.degrees(angles[:-1]), labels)\n",
    "\n",
    "    ax.set_theta_zero_location(\"N\")#0度が上に来るようにする\n",
    "\n",
    "    #タイトル\n",
    "    ax.set_title(name)\n",
    "\n",
    "    #描画\n",
    "    ax.plot(angles, values)"
   ]
  },
  {
   "cell_type": "code",
   "execution_count": 114,
   "id": "f3cc44aa-351d-4c81-b9fb-4cbcf5dfda12",
   "metadata": {
    "collapsed": true,
    "jupyter": {
     "outputs_hidden": true
    },
    "tags": []
   },
   "outputs": [
    {
     "data": {
      "text/html": [
       "<div>\n",
       "<style scoped>\n",
       "    .dataframe tbody tr th:only-of-type {\n",
       "        vertical-align: middle;\n",
       "    }\n",
       "\n",
       "    .dataframe tbody tr th {\n",
       "        vertical-align: top;\n",
       "    }\n",
       "\n",
       "    .dataframe thead th {\n",
       "        text-align: right;\n",
       "    }\n",
       "</style>\n",
       "<table border=\"1\" class=\"dataframe\">\n",
       "  <thead>\n",
       "    <tr style=\"text-align: right;\">\n",
       "      <th></th>\n",
       "      <th>Unnamed: 0</th>\n",
       "      <th>name</th>\n",
       "      <th>artist</th>\n",
       "      <th>release_date</th>\n",
       "      <th>length</th>\n",
       "      <th>popularity</th>\n",
       "      <th>danceability</th>\n",
       "      <th>acousticness</th>\n",
       "      <th>energy</th>\n",
       "      <th>loudness</th>\n",
       "      <th>tempo</th>\n",
       "      <th>valence</th>\n",
       "      <th>url</th>\n",
       "      <th>image</th>\n",
       "      <th>audio</th>\n",
       "    </tr>\n",
       "  </thead>\n",
       "  <tbody>\n",
       "    <tr>\n",
       "      <th>47</th>\n",
       "      <td>47</td>\n",
       "      <td>限りなく灰色へ (feat. 宵崎奏&amp;朝比奈まふゆ&amp;東雲絵名&amp;暁山瑞希&amp;鏡音リン)</td>\n",
       "      <td>25時、ナイトコードで。</td>\n",
       "      <td>2022-01-19</td>\n",
       "      <td>0.617613</td>\n",
       "      <td>0.827586</td>\n",
       "      <td>1.000000</td>\n",
       "      <td>0.120900</td>\n",
       "      <td>0.448882</td>\n",
       "      <td>0.519752</td>\n",
       "      <td>0.226364</td>\n",
       "      <td>0.721925</td>\n",
       "      <td>https://open.spotify.com/track/2kvYOzDQ8BZ9t0w...</td>\n",
       "      <td>https://i.scdn.co/image/ab67616d0000b27307fd0f...</td>\n",
       "      <td>https://p.scdn.co/mp3-preview/e60bb57c4c8ccee8...</td>\n",
       "    </tr>\n",
       "    <tr>\n",
       "      <th>48</th>\n",
       "      <td>48</td>\n",
       "      <td>夜明けと蛍</td>\n",
       "      <td>n-buna</td>\n",
       "      <td>2015-07-22</td>\n",
       "      <td>0.777088</td>\n",
       "      <td>0.517241</td>\n",
       "      <td>0.976661</td>\n",
       "      <td>0.720671</td>\n",
       "      <td>0.151757</td>\n",
       "      <td>0.446617</td>\n",
       "      <td>0.000000</td>\n",
       "      <td>0.836898</td>\n",
       "      <td>https://open.spotify.com/track/7zzMTPHYh2ntj2P...</td>\n",
       "      <td>https://i.scdn.co/image/ab67616d0000b273424682...</td>\n",
       "      <td>https://p.scdn.co/mp3-preview/f9e23c5bb9255042...</td>\n",
       "    </tr>\n",
       "    <tr>\n",
       "      <th>25</th>\n",
       "      <td>25</td>\n",
       "      <td>ラブカ?</td>\n",
       "      <td>柊キライ</td>\n",
       "      <td>2020-12-12</td>\n",
       "      <td>0.236627</td>\n",
       "      <td>0.724138</td>\n",
       "      <td>0.924596</td>\n",
       "      <td>0.536871</td>\n",
       "      <td>0.578275</td>\n",
       "      <td>0.597232</td>\n",
       "      <td>0.444337</td>\n",
       "      <td>0.568182</td>\n",
       "      <td>https://open.spotify.com/track/5R3XD7aR25OcI6q...</td>\n",
       "      <td>https://i.scdn.co/image/ab67616d0000b273be8e4d...</td>\n",
       "      <td>https://p.scdn.co/mp3-preview/46f9d3ff001ae66c...</td>\n",
       "    </tr>\n",
       "    <tr>\n",
       "      <th>81</th>\n",
       "      <td>81</td>\n",
       "      <td>妄想税</td>\n",
       "      <td>DECO*27</td>\n",
       "      <td>2014-03-26</td>\n",
       "      <td>0.373359</td>\n",
       "      <td>0.275862</td>\n",
       "      <td>0.890485</td>\n",
       "      <td>0.132993</td>\n",
       "      <td>0.405751</td>\n",
       "      <td>0.650978</td>\n",
       "      <td>0.435801</td>\n",
       "      <td>0.870321</td>\n",
       "      <td>https://open.spotify.com/track/29JFaA8DQ4D7IPv...</td>\n",
       "      <td>https://i.scdn.co/image/ab67616d0000b273d0e912...</td>\n",
       "      <td>https://p.scdn.co/mp3-preview/9997af3cd819813c...</td>\n",
       "    </tr>\n",
       "    <tr>\n",
       "      <th>33</th>\n",
       "      <td>33</td>\n",
       "      <td>回る空うさぎ</td>\n",
       "      <td>Akuya</td>\n",
       "      <td>2021-05-24</td>\n",
       "      <td>0.229617</td>\n",
       "      <td>0.793103</td>\n",
       "      <td>0.885099</td>\n",
       "      <td>1.000000</td>\n",
       "      <td>0.000000</td>\n",
       "      <td>0.284737</td>\n",
       "      <td>0.321256</td>\n",
       "      <td>0.675134</td>\n",
       "      <td>https://open.spotify.com/track/52Id9w2ov7p3x8L...</td>\n",
       "      <td>https://i.scdn.co/image/ab67616d0000b2733c3ae6...</td>\n",
       "      <td>https://p.scdn.co/mp3-preview/4e97555c015a0d4b...</td>\n",
       "    </tr>\n",
       "    <tr>\n",
       "      <th>...</th>\n",
       "      <td>...</td>\n",
       "      <td>...</td>\n",
       "      <td>...</td>\n",
       "      <td>...</td>\n",
       "      <td>...</td>\n",
       "      <td>...</td>\n",
       "      <td>...</td>\n",
       "      <td>...</td>\n",
       "      <td>...</td>\n",
       "      <td>...</td>\n",
       "      <td>...</td>\n",
       "      <td>...</td>\n",
       "      <td>...</td>\n",
       "      <td>...</td>\n",
       "      <td>...</td>\n",
       "    </tr>\n",
       "    <tr>\n",
       "      <th>66</th>\n",
       "      <td>66</td>\n",
       "      <td>Black Rock Shooter</td>\n",
       "      <td>mulmeyun</td>\n",
       "      <td>2020-02-26</td>\n",
       "      <td>0.747661</td>\n",
       "      <td>0.206897</td>\n",
       "      <td>0.134650</td>\n",
       "      <td>0.060440</td>\n",
       "      <td>0.667732</td>\n",
       "      <td>0.000000</td>\n",
       "      <td>0.020032</td>\n",
       "      <td>0.140374</td>\n",
       "      <td>https://open.spotify.com/track/5Vfogneq6fwqvzT...</td>\n",
       "      <td>https://i.scdn.co/image/ab67616d0000b27323309d...</td>\n",
       "      <td>https://p.scdn.co/mp3-preview/52c5f0b57094159a...</td>\n",
       "    </tr>\n",
       "    <tr>\n",
       "      <th>77</th>\n",
       "      <td>77</td>\n",
       "      <td>ワールドイズマイン -MIKUNOPOLIS in LOS ANGELES Live-</td>\n",
       "      <td>ヴァリアス・アーティスト</td>\n",
       "      <td>2011</td>\n",
       "      <td>0.205663</td>\n",
       "      <td>0.827586</td>\n",
       "      <td>0.070018</td>\n",
       "      <td>0.088977</td>\n",
       "      <td>0.920128</td>\n",
       "      <td>0.709872</td>\n",
       "      <td>0.685594</td>\n",
       "      <td>0.332888</td>\n",
       "      <td>https://open.spotify.com/track/1chETycPdQmdJsW...</td>\n",
       "      <td>https://i.scdn.co/image/ab67616d0000b273f812dc...</td>\n",
       "      <td>https://p.scdn.co/mp3-preview/7f42622f1862c88d...</td>\n",
       "    </tr>\n",
       "    <tr>\n",
       "      <th>9</th>\n",
       "      <td>9</td>\n",
       "      <td>ヴィラン</td>\n",
       "      <td>てにをは</td>\n",
       "      <td>2020-02-29</td>\n",
       "      <td>0.302833</td>\n",
       "      <td>0.689655</td>\n",
       "      <td>0.066427</td>\n",
       "      <td>0.007573</td>\n",
       "      <td>0.811502</td>\n",
       "      <td>0.667713</td>\n",
       "      <td>0.984349</td>\n",
       "      <td>0.704545</td>\n",
       "      <td>https://open.spotify.com/track/5CSVNJBsEPH3cM7...</td>\n",
       "      <td>https://i.scdn.co/image/ab67616d0000b2736fe37c...</td>\n",
       "      <td>https://p.scdn.co/mp3-preview/f230b383988193d2...</td>\n",
       "    </tr>\n",
       "    <tr>\n",
       "      <th>36</th>\n",
       "      <td>36</td>\n",
       "      <td>メルト -MIKU EXPO 2014 in INDONESIA Live-</td>\n",
       "      <td>ヴァリアス・アーティスト</td>\n",
       "      <td>2014-10-06</td>\n",
       "      <td>0.669876</td>\n",
       "      <td>0.482759</td>\n",
       "      <td>0.023339</td>\n",
       "      <td>0.003123</td>\n",
       "      <td>0.980831</td>\n",
       "      <td>0.783168</td>\n",
       "      <td>0.727094</td>\n",
       "      <td>0.135027</td>\n",
       "      <td>https://open.spotify.com/track/6nWONiqCJwFxKKf...</td>\n",
       "      <td>https://i.scdn.co/image/ab67616d0000b273d0a10a...</td>\n",
       "      <td>https://p.scdn.co/mp3-preview/80797951a0e1b00d...</td>\n",
       "    </tr>\n",
       "    <tr>\n",
       "      <th>82</th>\n",
       "      <td>82</td>\n",
       "      <td>エンヴィキャットウォーク</td>\n",
       "      <td>りぶ</td>\n",
       "      <td>2021-11-24</td>\n",
       "      <td>0.413815</td>\n",
       "      <td>0.000000</td>\n",
       "      <td>0.000000</td>\n",
       "      <td>0.007996</td>\n",
       "      <td>0.859425</td>\n",
       "      <td>0.794674</td>\n",
       "      <td>0.644448</td>\n",
       "      <td>0.570856</td>\n",
       "      <td>https://open.spotify.com/track/7dhgKHJn0DMPGHE...</td>\n",
       "      <td>https://i.scdn.co/image/ab67616d0000b273d42f15...</td>\n",
       "      <td>https://p.scdn.co/mp3-preview/f15ca16a78c57ab2...</td>\n",
       "    </tr>\n",
       "  </tbody>\n",
       "</table>\n",
       "<p>95 rows × 15 columns</p>\n",
       "</div>"
      ],
      "text/plain": [
       "    Unnamed: 0                                         name        artist  \\\n",
       "47          47    限りなく灰色へ (feat. 宵崎奏&朝比奈まふゆ&東雲絵名&暁山瑞希&鏡音リン)  25時、ナイトコードで。   \n",
       "48          48                                        夜明けと蛍        n-buna   \n",
       "25          25                                         ラブカ?          柊キライ   \n",
       "81          81                                          妄想税       DECO*27   \n",
       "33          33                                       回る空うさぎ         Akuya   \n",
       "..         ...                                          ...           ...   \n",
       "66          66                           Black Rock Shooter      mulmeyun   \n",
       "77          77  ワールドイズマイン -MIKUNOPOLIS in LOS ANGELES Live-  ヴァリアス・アーティスト   \n",
       "9            9                                         ヴィラン          てにをは   \n",
       "36          36       メルト -MIKU EXPO 2014 in INDONESIA Live-  ヴァリアス・アーティスト   \n",
       "82          82                                 エンヴィキャットウォーク            りぶ   \n",
       "\n",
       "   release_date    length  popularity  danceability  acousticness    energy  \\\n",
       "47   2022-01-19  0.617613    0.827586      1.000000      0.120900  0.448882   \n",
       "48   2015-07-22  0.777088    0.517241      0.976661      0.720671  0.151757   \n",
       "25   2020-12-12  0.236627    0.724138      0.924596      0.536871  0.578275   \n",
       "81   2014-03-26  0.373359    0.275862      0.890485      0.132993  0.405751   \n",
       "33   2021-05-24  0.229617    0.793103      0.885099      1.000000  0.000000   \n",
       "..          ...       ...         ...           ...           ...       ...   \n",
       "66   2020-02-26  0.747661    0.206897      0.134650      0.060440  0.667732   \n",
       "77         2011  0.205663    0.827586      0.070018      0.088977  0.920128   \n",
       "9    2020-02-29  0.302833    0.689655      0.066427      0.007573  0.811502   \n",
       "36   2014-10-06  0.669876    0.482759      0.023339      0.003123  0.980831   \n",
       "82   2021-11-24  0.413815    0.000000      0.000000      0.007996  0.859425   \n",
       "\n",
       "    loudness     tempo   valence  \\\n",
       "47  0.519752  0.226364  0.721925   \n",
       "48  0.446617  0.000000  0.836898   \n",
       "25  0.597232  0.444337  0.568182   \n",
       "81  0.650978  0.435801  0.870321   \n",
       "33  0.284737  0.321256  0.675134   \n",
       "..       ...       ...       ...   \n",
       "66  0.000000  0.020032  0.140374   \n",
       "77  0.709872  0.685594  0.332888   \n",
       "9   0.667713  0.984349  0.704545   \n",
       "36  0.783168  0.727094  0.135027   \n",
       "82  0.794674  0.644448  0.570856   \n",
       "\n",
       "                                                  url  \\\n",
       "47  https://open.spotify.com/track/2kvYOzDQ8BZ9t0w...   \n",
       "48  https://open.spotify.com/track/7zzMTPHYh2ntj2P...   \n",
       "25  https://open.spotify.com/track/5R3XD7aR25OcI6q...   \n",
       "81  https://open.spotify.com/track/29JFaA8DQ4D7IPv...   \n",
       "33  https://open.spotify.com/track/52Id9w2ov7p3x8L...   \n",
       "..                                                ...   \n",
       "66  https://open.spotify.com/track/5Vfogneq6fwqvzT...   \n",
       "77  https://open.spotify.com/track/1chETycPdQmdJsW...   \n",
       "9   https://open.spotify.com/track/5CSVNJBsEPH3cM7...   \n",
       "36  https://open.spotify.com/track/6nWONiqCJwFxKKf...   \n",
       "82  https://open.spotify.com/track/7dhgKHJn0DMPGHE...   \n",
       "\n",
       "                                                image  \\\n",
       "47  https://i.scdn.co/image/ab67616d0000b27307fd0f...   \n",
       "48  https://i.scdn.co/image/ab67616d0000b273424682...   \n",
       "25  https://i.scdn.co/image/ab67616d0000b273be8e4d...   \n",
       "81  https://i.scdn.co/image/ab67616d0000b273d0e912...   \n",
       "33  https://i.scdn.co/image/ab67616d0000b2733c3ae6...   \n",
       "..                                                ...   \n",
       "66  https://i.scdn.co/image/ab67616d0000b27323309d...   \n",
       "77  https://i.scdn.co/image/ab67616d0000b273f812dc...   \n",
       "9   https://i.scdn.co/image/ab67616d0000b2736fe37c...   \n",
       "36  https://i.scdn.co/image/ab67616d0000b273d0a10a...   \n",
       "82  https://i.scdn.co/image/ab67616d0000b273d42f15...   \n",
       "\n",
       "                                                audio  \n",
       "47  https://p.scdn.co/mp3-preview/e60bb57c4c8ccee8...  \n",
       "48  https://p.scdn.co/mp3-preview/f9e23c5bb9255042...  \n",
       "25  https://p.scdn.co/mp3-preview/46f9d3ff001ae66c...  \n",
       "81  https://p.scdn.co/mp3-preview/9997af3cd819813c...  \n",
       "33  https://p.scdn.co/mp3-preview/4e97555c015a0d4b...  \n",
       "..                                                ...  \n",
       "66  https://p.scdn.co/mp3-preview/52c5f0b57094159a...  \n",
       "77  https://p.scdn.co/mp3-preview/7f42622f1862c88d...  \n",
       "9   https://p.scdn.co/mp3-preview/f230b383988193d2...  \n",
       "36  https://p.scdn.co/mp3-preview/80797951a0e1b00d...  \n",
       "82  https://p.scdn.co/mp3-preview/f15ca16a78c57ab2...  \n",
       "\n",
       "[95 rows x 15 columns]"
      ]
     },
     "metadata": {},
     "output_type": "display_data"
    },
    {
     "data": {
      "text/plain": [
       "array([1.        , 0.97666068, 0.92459605, 0.89048474, 0.88509874,\n",
       "       0.87971275, 0.84739677, 0.84201077, 0.82764811, 0.80251346,\n",
       "       0.7432675 , 0.72172352, 0.71813285, 0.71095153, 0.7037702 ,\n",
       "       0.68761221, 0.68402154, 0.68043088, 0.67684022, 0.67504488,\n",
       "       0.66786355, 0.65888689, 0.64991023, 0.6481149 , 0.64631957,\n",
       "       0.63734291, 0.62657092, 0.62118492, 0.61938959, 0.60861759,\n",
       "       0.60502693, 0.59605027, 0.59245961, 0.58348294, 0.57989228,\n",
       "       0.56732496, 0.56373429, 0.56193896, 0.56193896, 0.55655296,\n",
       "       0.55475763, 0.55116697, 0.54578097, 0.53859964, 0.53500898,\n",
       "       0.52782765, 0.51885099, 0.502693  , 0.502693  , 0.50089767,\n",
       "       0.497307  , 0.497307  , 0.48473968, 0.48114901, 0.47755835,\n",
       "       0.47576302, 0.47396768, 0.46678636, 0.46140036, 0.45960503,\n",
       "       0.45062837, 0.44883303, 0.44883303, 0.44883303, 0.43985637,\n",
       "       0.43985637, 0.43447038, 0.42728905, 0.40574506, 0.39497307,\n",
       "       0.38958707, 0.38779174, 0.38779174, 0.38061041, 0.37701975,\n",
       "       0.37522442, 0.36983842, 0.36804309, 0.36086176, 0.35906643,\n",
       "       0.35547576, 0.35368043, 0.33213645, 0.32495512, 0.29263914,\n",
       "       0.28366248, 0.27289048, 0.2459605 , 0.20287253, 0.19210054,\n",
       "       0.13464991, 0.07001795, 0.06642729, 0.02333932, 0.        ])"
      ]
     },
     "execution_count": 114,
     "metadata": {},
     "output_type": "execute_result"
    }
   ],
   "source": [
    "df = pd.read_csv('spotify_data_vocaloid_mm.csv')\n",
    "df_sort=df.sort_values(by=data[5], ascending=False)\n",
    "display(df_sort)\n",
    "df_sort['danceability'].values"
   ]
  },
  {
   "cell_type": "code",
   "execution_count": 134,
   "id": "4d2dab58-8af5-43fa-84dc-8ca151470324",
   "metadata": {},
   "outputs": [
    {
     "name": "stdout",
     "output_type": "stream",
     "text": [
      "[45, 12, 18, 20, 4, 16]\n"
     ]
    }
   ],
   "source": [
    "import bisect\n",
    "df = pd.read_csv('spotify_data_global_mm.csv')\n",
    "data=['name', 'artist', 'release_date', 'length', 'popularity', 'danceability', 'acousticness', 'energy', 'loudness', 'tempo',  'valence', 'url', 'image', 'audio']\n",
    "rank=[]\n",
    "min_values=[df['danceability'].values[1],\n",
    "            df['acousticness'].values[1],\n",
    "            df['energy'].values[1],\n",
    "            df['loudness'].values[1],\n",
    "            df['tempo'].values[1],\n",
    "            df['valence'].values[1]]\n",
    "for i in range(6):\n",
    "    df_sort=df.sort_values(by=data[i+5], ascending=True)\n",
    "    cnt=bisect.bisect(list(df_sort[data[i+5]].values),min_values[i])\n",
    "    rank.append(len(df)-cnt+1)\n",
    "print(rank)"
   ]
  },
  {
   "cell_type": "code",
   "execution_count": 126,
   "id": "768a7f1a-6608-4c25-b7d3-a803191ffa58",
   "metadata": {},
   "outputs": [
    {
     "data": {
      "text/plain": [
       "array([0.        , 0.02333932, 0.06642729, 0.07001795, 0.13464991,\n",
       "       0.19210054, 0.20287253, 0.2459605 , 0.27289048, 0.28366248,\n",
       "       0.29263914, 0.32495512, 0.33213645, 0.35368043, 0.35547576,\n",
       "       0.35906643, 0.36086176, 0.36804309, 0.36983842, 0.37522442,\n",
       "       0.37701975, 0.38061041, 0.38779174, 0.38779174, 0.38958707,\n",
       "       0.39497307, 0.40574506, 0.42728905, 0.43447038, 0.43985637,\n",
       "       0.43985637, 0.44883303, 0.44883303, 0.44883303, 0.45062837,\n",
       "       0.45960503, 0.46140036, 0.46678636, 0.47396768, 0.47576302,\n",
       "       0.47755835, 0.48114901, 0.48473968, 0.497307  , 0.497307  ,\n",
       "       0.50089767, 0.502693  , 0.502693  , 0.51885099, 0.52782765,\n",
       "       0.53500898, 0.53859964, 0.54578097, 0.55116697, 0.55475763,\n",
       "       0.55655296, 0.56193896, 0.56193896, 0.56373429, 0.56732496,\n",
       "       0.57989228, 0.58348294, 0.59245961, 0.59605027, 0.60502693,\n",
       "       0.60861759, 0.61938959, 0.62118492, 0.62657092, 0.63734291,\n",
       "       0.64631957, 0.6481149 , 0.64991023, 0.65888689, 0.66786355,\n",
       "       0.67504488, 0.67684022, 0.68043088, 0.68402154, 0.68761221,\n",
       "       0.7037702 , 0.71095153, 0.71813285, 0.72172352, 0.7432675 ,\n",
       "       0.80251346, 0.82764811, 0.84201077, 0.84739677, 0.87971275,\n",
       "       0.88509874, 0.89048474, 0.92459605, 0.97666068, 1.        ])"
      ]
     },
     "execution_count": 126,
     "metadata": {},
     "output_type": "execute_result"
    }
   ],
   "source": [
    "df_sort=df.sort_values(by=data[5], ascending=True)\n",
    "df_sort[data[5]].values"
   ]
  },
  {
   "cell_type": "markdown",
   "id": "09762e39-c01e-4602-9ccb-e0a50b986e3c",
   "metadata": {},
   "source": [
    "### クラスタリング"
   ]
  },
  {
   "cell_type": "code",
   "execution_count": 21,
   "id": "0ec31b34-5bab-497c-8021-373a19a82c4a",
   "metadata": {},
   "outputs": [],
   "source": [
    "import matplotlib.pyplot as plt\n",
    "import seaborn as sns\n",
    "sns.set()\n",
    "from sklearn.cluster import KMeans"
   ]
  },
  {
   "cell_type": "code",
   "execution_count": 4,
   "id": "a033360d-f375-4b72-8c85-a8e45686f44f",
   "metadata": {},
   "outputs": [
    {
     "data": {
      "text/html": [
       "<div>\n",
       "<style scoped>\n",
       "    .dataframe tbody tr th:only-of-type {\n",
       "        vertical-align: middle;\n",
       "    }\n",
       "\n",
       "    .dataframe tbody tr th {\n",
       "        vertical-align: top;\n",
       "    }\n",
       "\n",
       "    .dataframe thead th {\n",
       "        text-align: right;\n",
       "    }\n",
       "</style>\n",
       "<table border=\"1\" class=\"dataframe\">\n",
       "  <thead>\n",
       "    <tr style=\"text-align: right;\">\n",
       "      <th></th>\n",
       "      <th>Unnamed: 0</th>\n",
       "      <th>name</th>\n",
       "      <th>artist</th>\n",
       "      <th>release_date</th>\n",
       "      <th>length</th>\n",
       "      <th>popularity</th>\n",
       "      <th>danceability</th>\n",
       "      <th>acousticness</th>\n",
       "      <th>energy</th>\n",
       "      <th>loudness</th>\n",
       "      <th>tempo</th>\n",
       "      <th>valence</th>\n",
       "      <th>url</th>\n",
       "      <th>image</th>\n",
       "      <th>audio</th>\n",
       "    </tr>\n",
       "  </thead>\n",
       "  <tbody>\n",
       "    <tr>\n",
       "      <th>0</th>\n",
       "      <td>0</td>\n",
       "      <td>シャルル</td>\n",
       "      <td>バルーン</td>\n",
       "      <td>2017-08-12</td>\n",
       "      <td>0.449087</td>\n",
       "      <td>0.724138</td>\n",
       "      <td>0.434470</td>\n",
       "      <td>0.028879</td>\n",
       "      <td>0.766773</td>\n",
       "      <td>0.735940</td>\n",
       "      <td>0.524143</td>\n",
       "      <td>0.479947</td>\n",
       "      <td>https://open.spotify.com/track/54ezuGQj5s0ot4J...</td>\n",
       "      <td>https://i.scdn.co/image/ab67616d0000b273fa85ef...</td>\n",
       "      <td>https://p.scdn.co/mp3-preview/1ca6e60aa05fd90b...</td>\n",
       "    </tr>\n",
       "    <tr>\n",
       "      <th>1</th>\n",
       "      <td>1</td>\n",
       "      <td>フォニイ</td>\n",
       "      <td>ヴァリアス・アーティスト</td>\n",
       "      <td>2021-12-18</td>\n",
       "      <td>0.256934</td>\n",
       "      <td>1.000000</td>\n",
       "      <td>0.626571</td>\n",
       "      <td>0.087526</td>\n",
       "      <td>0.845048</td>\n",
       "      <td>0.439858</td>\n",
       "      <td>0.725553</td>\n",
       "      <td>0.522727</td>\n",
       "      <td>https://open.spotify.com/track/5pBIavXhjzTi0u7...</td>\n",
       "      <td>https://i.scdn.co/image/ab67616d0000b2732bd1c0...</td>\n",
       "      <td>https://p.scdn.co/mp3-preview/8d86641169a7daac...</td>\n",
       "    </tr>\n",
       "    <tr>\n",
       "      <th>2</th>\n",
       "      <td>2</td>\n",
       "      <td>KING</td>\n",
       "      <td>Kanaria</td>\n",
       "      <td>2020-08-01</td>\n",
       "      <td>0.016109</td>\n",
       "      <td>0.724138</td>\n",
       "      <td>0.545781</td>\n",
       "      <td>0.058747</td>\n",
       "      <td>0.664537</td>\n",
       "      <td>0.492075</td>\n",
       "      <td>0.694169</td>\n",
       "      <td>0.943850</td>\n",
       "      <td>https://open.spotify.com/track/5lojBXokpBOfuTD...</td>\n",
       "      <td>https://i.scdn.co/image/ab67616d0000b27319bb3e...</td>\n",
       "      <td>https://p.scdn.co/mp3-preview/17d0b170ef9845c4...</td>\n",
       "    </tr>\n",
       "    <tr>\n",
       "      <th>3</th>\n",
       "      <td>3</td>\n",
       "      <td>ヴァンパイア</td>\n",
       "      <td>DECO*27</td>\n",
       "      <td>2021-03-09</td>\n",
       "      <td>0.206051</td>\n",
       "      <td>0.827586</td>\n",
       "      <td>0.502693</td>\n",
       "      <td>0.011587</td>\n",
       "      <td>0.937700</td>\n",
       "      <td>0.647277</td>\n",
       "      <td>0.678155</td>\n",
       "      <td>0.985294</td>\n",
       "      <td>https://open.spotify.com/track/0m9QPTZzjtqCWY9...</td>\n",
       "      <td>https://i.scdn.co/image/ab67616d0000b2738d8d73...</td>\n",
       "      <td>https://p.scdn.co/mp3-preview/c9c08e9339a0b9a8...</td>\n",
       "    </tr>\n",
       "    <tr>\n",
       "      <th>4</th>\n",
       "      <td>4</td>\n",
       "      <td>命に嫌われている。</td>\n",
       "      <td>まふまふ</td>\n",
       "      <td>2020-12-25</td>\n",
       "      <td>0.628572</td>\n",
       "      <td>0.724138</td>\n",
       "      <td>0.827648</td>\n",
       "      <td>0.428041</td>\n",
       "      <td>0.752396</td>\n",
       "      <td>0.683402</td>\n",
       "      <td>0.161507</td>\n",
       "      <td>0.733957</td>\n",
       "      <td>https://open.spotify.com/track/4iJkPFfvhKL08H9...</td>\n",
       "      <td>https://i.scdn.co/image/ab67616d0000b27371feb4...</td>\n",
       "      <td>https://p.scdn.co/mp3-preview/04e60a24eccf2194...</td>\n",
       "    </tr>\n",
       "  </tbody>\n",
       "</table>\n",
       "</div>"
      ],
      "text/plain": [
       "   Unnamed: 0       name        artist release_date    length  popularity  \\\n",
       "0           0       シャルル          バルーン   2017-08-12  0.449087    0.724138   \n",
       "1           1       フォニイ  ヴァリアス・アーティスト   2021-12-18  0.256934    1.000000   \n",
       "2           2       KING       Kanaria   2020-08-01  0.016109    0.724138   \n",
       "3           3     ヴァンパイア       DECO*27   2021-03-09  0.206051    0.827586   \n",
       "4           4  命に嫌われている。          まふまふ   2020-12-25  0.628572    0.724138   \n",
       "\n",
       "   danceability  acousticness    energy  loudness     tempo   valence  \\\n",
       "0      0.434470      0.028879  0.766773  0.735940  0.524143  0.479947   \n",
       "1      0.626571      0.087526  0.845048  0.439858  0.725553  0.522727   \n",
       "2      0.545781      0.058747  0.664537  0.492075  0.694169  0.943850   \n",
       "3      0.502693      0.011587  0.937700  0.647277  0.678155  0.985294   \n",
       "4      0.827648      0.428041  0.752396  0.683402  0.161507  0.733957   \n",
       "\n",
       "                                                 url  \\\n",
       "0  https://open.spotify.com/track/54ezuGQj5s0ot4J...   \n",
       "1  https://open.spotify.com/track/5pBIavXhjzTi0u7...   \n",
       "2  https://open.spotify.com/track/5lojBXokpBOfuTD...   \n",
       "3  https://open.spotify.com/track/0m9QPTZzjtqCWY9...   \n",
       "4  https://open.spotify.com/track/4iJkPFfvhKL08H9...   \n",
       "\n",
       "                                               image  \\\n",
       "0  https://i.scdn.co/image/ab67616d0000b273fa85ef...   \n",
       "1  https://i.scdn.co/image/ab67616d0000b2732bd1c0...   \n",
       "2  https://i.scdn.co/image/ab67616d0000b27319bb3e...   \n",
       "3  https://i.scdn.co/image/ab67616d0000b2738d8d73...   \n",
       "4  https://i.scdn.co/image/ab67616d0000b27371feb4...   \n",
       "\n",
       "                                               audio  \n",
       "0  https://p.scdn.co/mp3-preview/1ca6e60aa05fd90b...  \n",
       "1  https://p.scdn.co/mp3-preview/8d86641169a7daac...  \n",
       "2  https://p.scdn.co/mp3-preview/17d0b170ef9845c4...  \n",
       "3  https://p.scdn.co/mp3-preview/c9c08e9339a0b9a8...  \n",
       "4  https://p.scdn.co/mp3-preview/04e60a24eccf2194...  "
      ]
     },
     "execution_count": 4,
     "metadata": {},
     "output_type": "execute_result"
    }
   ],
   "source": [
    "df = pd.read_csv('spotify_data_vocaloid_mm.csv')\n",
    "df.head()"
   ]
  },
  {
   "cell_type": "code",
   "execution_count": 22,
   "id": "17155198-1e98-4e4a-a62d-fa8d50b7e92f",
   "metadata": {},
   "outputs": [
    {
     "name": "stderr",
     "output_type": "stream",
     "text": [
      "C:\\anaconda3\\lib\\site-packages\\sklearn\\cluster\\_kmeans.py:1332: UserWarning: KMeans is known to have a memory leak on Windows with MKL, when there are less chunks than available threads. You can avoid it by setting the environment variable OMP_NUM_THREADS=1.\n",
      "  warnings.warn(\n"
     ]
    },
    {
     "data": {
      "text/html": [
       "<div>\n",
       "<style scoped>\n",
       "    .dataframe tbody tr th:only-of-type {\n",
       "        vertical-align: middle;\n",
       "    }\n",
       "\n",
       "    .dataframe tbody tr th {\n",
       "        vertical-align: top;\n",
       "    }\n",
       "\n",
       "    .dataframe thead th {\n",
       "        text-align: right;\n",
       "    }\n",
       "</style>\n",
       "<table border=\"1\" class=\"dataframe\">\n",
       "  <thead>\n",
       "    <tr style=\"text-align: right;\">\n",
       "      <th></th>\n",
       "      <th>url</th>\n",
       "      <th>image</th>\n",
       "      <th>audio</th>\n",
       "      <th>cluster_pred</th>\n",
       "    </tr>\n",
       "  </thead>\n",
       "  <tbody>\n",
       "    <tr>\n",
       "      <th>0</th>\n",
       "      <td>https://open.spotify.com/track/2tTmW7RDtMQtBk7...</td>\n",
       "      <td>https://i.scdn.co/image/ab67616d0000b2731630dd...</td>\n",
       "      <td>https://p.scdn.co/mp3-preview/2bbcf481555f0129...</td>\n",
       "      <td>0</td>\n",
       "    </tr>\n",
       "    <tr>\n",
       "      <th>1</th>\n",
       "      <td>https://open.spotify.com/track/4Dvkj6JhhA12EX0...</td>\n",
       "      <td>https://i.scdn.co/image/ab67616d0000b2732e8ed7...</td>\n",
       "      <td>https://p.scdn.co/mp3-preview/f0c2adc40766cd8c...</td>\n",
       "      <td>0</td>\n",
       "    </tr>\n",
       "    <tr>\n",
       "      <th>2</th>\n",
       "      <td>https://open.spotify.com/track/6Sq7ltF9Qa7SNFB...</td>\n",
       "      <td>https://i.scdn.co/image/ab67616d0000b27349d694...</td>\n",
       "      <td>https://p.scdn.co/mp3-preview/8513b15fb5b39966...</td>\n",
       "      <td>0</td>\n",
       "    </tr>\n",
       "    <tr>\n",
       "      <th>3</th>\n",
       "      <td>https://open.spotify.com/track/1IHWl5LamUGEuP4...</td>\n",
       "      <td>https://i.scdn.co/image/ab67616d0000b27349d694...</td>\n",
       "      <td>https://p.scdn.co/mp3-preview/a174cca3a21422be...</td>\n",
       "      <td>0</td>\n",
       "    </tr>\n",
       "    <tr>\n",
       "      <th>4</th>\n",
       "      <td>https://open.spotify.com/track/5ildQOEKmJuWGl2...</td>\n",
       "      <td>https://i.scdn.co/image/ab67616d0000b2738f0720...</td>\n",
       "      <td>https://p.scdn.co/mp3-preview/c9bada701f6ef03e...</td>\n",
       "      <td>2</td>\n",
       "    </tr>\n",
       "  </tbody>\n",
       "</table>\n",
       "</div>"
      ],
      "text/plain": [
       "                                                 url  \\\n",
       "0  https://open.spotify.com/track/2tTmW7RDtMQtBk7...   \n",
       "1  https://open.spotify.com/track/4Dvkj6JhhA12EX0...   \n",
       "2  https://open.spotify.com/track/6Sq7ltF9Qa7SNFB...   \n",
       "3  https://open.spotify.com/track/1IHWl5LamUGEuP4...   \n",
       "4  https://open.spotify.com/track/5ildQOEKmJuWGl2...   \n",
       "\n",
       "                                               image  \\\n",
       "0  https://i.scdn.co/image/ab67616d0000b2731630dd...   \n",
       "1  https://i.scdn.co/image/ab67616d0000b2732e8ed7...   \n",
       "2  https://i.scdn.co/image/ab67616d0000b27349d694...   \n",
       "3  https://i.scdn.co/image/ab67616d0000b27349d694...   \n",
       "4  https://i.scdn.co/image/ab67616d0000b2738f0720...   \n",
       "\n",
       "                                               audio  cluster_pred  \n",
       "0  https://p.scdn.co/mp3-preview/2bbcf481555f0129...             0  \n",
       "1  https://p.scdn.co/mp3-preview/f0c2adc40766cd8c...             0  \n",
       "2  https://p.scdn.co/mp3-preview/8513b15fb5b39966...             0  \n",
       "3  https://p.scdn.co/mp3-preview/a174cca3a21422be...             0  \n",
       "4  https://p.scdn.co/mp3-preview/c9bada701f6ef03e...             2  "
      ]
     },
     "execution_count": 22,
     "metadata": {},
     "output_type": "execute_result"
    }
   ],
   "source": [
    "# クラスタリング\n",
    "x=df.iloc[:,6:12]\n",
    "# クラスからオブジェクトを作成\n",
    "kmeans = KMeans(n_clusters=3,            # クラスターの個数\n",
    "                init='k-means++',           # セントロイドの初期値をランダムに設定  default: 'k-means++'\n",
    "                n_init=10,               # 異なるセントロイドの初期値を用いたk-meansの実行回数 default: '10' 実行したうちもっとSSE値が小さいモデルを最終モデルとして選択\n",
    "                max_iter=300,            # k-meansアルゴリズムの内部の最大イテレーション回数  default: '300'\n",
    "                tol=1e-04,               # 収束と判定するための相対的な許容誤差 default: '1e-04'\n",
    "                random_state=0)          # セントロイドの初期化に用いる乱数発生器の状態)\n",
    "# 予測したデータをdfに入れる\n",
    "df['cluster_pred']=kmeans.fit_predict(x)\n",
    "df.iloc[:,12:].head()"
   ]
  },
  {
   "cell_type": "code",
   "execution_count": 13,
   "id": "24bff434-5e5d-4663-b724-072abe97f477",
   "metadata": {},
   "outputs": [
    {
     "data": {
      "text/plain": [
       "Text(0, 0.5, 'energy')"
      ]
     },
     "execution_count": 13,
     "metadata": {},
     "output_type": "execute_result"
    },
    {
     "data": {
      "image/png": "[encoded data removed]",
      "text/plain": [
       "<Figure size 432x288 with 1 Axes>"
      ]
     },
     "metadata": {},
     "output_type": "display_data"
    }
   ],
   "source": [
    "plt.scatter(df['loudness'],df['energy'],c=df['cluster_pred'],cmap='rainbow')\n",
    "plt.xlabel('loudness')\n",
    "plt.ylabel('energy')"
   ]
  },
  {
   "cell_type": "code",
   "execution_count": 36,
   "id": "b145b462-f81c-4bda-bf10-2819a2327e38",
   "metadata": {},
   "outputs": [
    {
     "data": {
      "text/html": [
       "<div>\n",
       "<style scoped>\n",
       "    .dataframe tbody tr th:only-of-type {\n",
       "        vertical-align: middle;\n",
       "    }\n",
       "\n",
       "    .dataframe tbody tr th {\n",
       "        vertical-align: top;\n",
       "    }\n",
       "\n",
       "    .dataframe thead th {\n",
       "        text-align: right;\n",
       "    }\n",
       "</style>\n",
       "<table border=\"1\" class=\"dataframe\">\n",
       "  <thead>\n",
       "    <tr style=\"text-align: right;\">\n",
       "      <th></th>\n",
       "      <th>danceability</th>\n",
       "      <th>acousticness</th>\n",
       "      <th>energy</th>\n",
       "      <th>loudness</th>\n",
       "      <th>tempo</th>\n",
       "      <th>valence</th>\n",
       "    </tr>\n",
       "  </thead>\n",
       "  <tbody>\n",
       "    <tr>\n",
       "      <th>0</th>\n",
       "      <td>0.434470</td>\n",
       "      <td>0.028879</td>\n",
       "      <td>0.766773</td>\n",
       "      <td>0.735940</td>\n",
       "      <td>0.524143</td>\n",
       "      <td>0.479947</td>\n",
       "    </tr>\n",
       "    <tr>\n",
       "      <th>1</th>\n",
       "      <td>0.626571</td>\n",
       "      <td>0.087526</td>\n",
       "      <td>0.845048</td>\n",
       "      <td>0.439858</td>\n",
       "      <td>0.725553</td>\n",
       "      <td>0.522727</td>\n",
       "    </tr>\n",
       "    <tr>\n",
       "      <th>2</th>\n",
       "      <td>0.545781</td>\n",
       "      <td>0.058747</td>\n",
       "      <td>0.664537</td>\n",
       "      <td>0.492075</td>\n",
       "      <td>0.694169</td>\n",
       "      <td>0.943850</td>\n",
       "    </tr>\n",
       "    <tr>\n",
       "      <th>3</th>\n",
       "      <td>0.502693</td>\n",
       "      <td>0.011587</td>\n",
       "      <td>0.937700</td>\n",
       "      <td>0.647277</td>\n",
       "      <td>0.678155</td>\n",
       "      <td>0.985294</td>\n",
       "    </tr>\n",
       "    <tr>\n",
       "      <th>4</th>\n",
       "      <td>0.827648</td>\n",
       "      <td>0.428041</td>\n",
       "      <td>0.752396</td>\n",
       "      <td>0.683402</td>\n",
       "      <td>0.161507</td>\n",
       "      <td>0.733957</td>\n",
       "    </tr>\n",
       "  </tbody>\n",
       "</table>\n",
       "</div>"
      ],
      "text/plain": [
       "   danceability  acousticness    energy  loudness     tempo   valence\n",
       "0      0.434470      0.028879  0.766773  0.735940  0.524143  0.479947\n",
       "1      0.626571      0.087526  0.845048  0.439858  0.725553  0.522727\n",
       "2      0.545781      0.058747  0.664537  0.492075  0.694169  0.943850\n",
       "3      0.502693      0.011587  0.937700  0.647277  0.678155  0.985294\n",
       "4      0.827648      0.428041  0.752396  0.683402  0.161507  0.733957"
      ]
     },
     "execution_count": 36,
     "metadata": {},
     "output_type": "execute_result"
    }
   ],
   "source": [
    "x=df.iloc[:,6:12]\n",
    "x.head()"
   ]
  },
  {
   "cell_type": "code",
   "execution_count": 38,
   "id": "56b9bb76-43e2-4663-b6df-02c1b8422759",
   "metadata": {
    "collapsed": true,
    "jupyter": {
     "outputs_hidden": true
    },
    "tags": []
   },
   "outputs": [
    {
     "name": "stderr",
     "output_type": "stream",
     "text": [
      "C:\\anaconda3\\lib\\site-packages\\sklearn\\cluster\\_kmeans.py:1332: UserWarning: KMeans is known to have a memory leak on Windows with MKL, when there are less chunks than available threads. You can avoid it by setting the environment variable OMP_NUM_THREADS=1.\n",
      "  warnings.warn(\n",
      "C:\\anaconda3\\lib\\site-packages\\sklearn\\cluster\\_kmeans.py:1332: UserWarning: KMeans is known to have a memory leak on Windows with MKL, when there are less chunks than available threads. You can avoid it by setting the environment variable OMP_NUM_THREADS=1.\n",
      "  warnings.warn(\n",
      "C:\\anaconda3\\lib\\site-packages\\sklearn\\cluster\\_kmeans.py:1332: UserWarning: KMeans is known to have a memory leak on Windows with MKL, when there are less chunks than available threads. You can avoid it by setting the environment variable OMP_NUM_THREADS=1.\n",
      "  warnings.warn(\n",
      "C:\\anaconda3\\lib\\site-packages\\sklearn\\cluster\\_kmeans.py:1332: UserWarning: KMeans is known to have a memory leak on Windows with MKL, when there are less chunks than available threads. You can avoid it by setting the environment variable OMP_NUM_THREADS=1.\n",
      "  warnings.warn(\n",
      "C:\\anaconda3\\lib\\site-packages\\sklearn\\cluster\\_kmeans.py:1332: UserWarning: KMeans is known to have a memory leak on Windows with MKL, when there are less chunks than available threads. You can avoid it by setting the environment variable OMP_NUM_THREADS=1.\n",
      "  warnings.warn(\n",
      "C:\\anaconda3\\lib\\site-packages\\sklearn\\cluster\\_kmeans.py:1332: UserWarning: KMeans is known to have a memory leak on Windows with MKL, when there are less chunks than available threads. You can avoid it by setting the environment variable OMP_NUM_THREADS=1.\n",
      "  warnings.warn(\n",
      "C:\\anaconda3\\lib\\site-packages\\sklearn\\cluster\\_kmeans.py:1332: UserWarning: KMeans is known to have a memory leak on Windows with MKL, when there are less chunks than available threads. You can avoid it by setting the environment variable OMP_NUM_THREADS=1.\n",
      "  warnings.warn(\n",
      "C:\\anaconda3\\lib\\site-packages\\sklearn\\cluster\\_kmeans.py:1332: UserWarning: KMeans is known to have a memory leak on Windows with MKL, when there are less chunks than available threads. You can avoid it by setting the environment variable OMP_NUM_THREADS=1.\n",
      "  warnings.warn(\n",
      "C:\\anaconda3\\lib\\site-packages\\sklearn\\cluster\\_kmeans.py:1332: UserWarning: KMeans is known to have a memory leak on Windows with MKL, when there are less chunks than available threads. You can avoid it by setting the environment variable OMP_NUM_THREADS=1.\n",
      "  warnings.warn(\n"
     ]
    },
    {
     "data": {
      "text/plain": [
       "Text(0, 0.5, 'WCSS')"
      ]
     },
     "execution_count": 38,
     "metadata": {},
     "output_type": "execute_result"
    },
    {
     "data": {
      "image/png": "[encoded data removed]",
      "text/plain": [
       "<Figure size 432x288 with 1 Axes>"
      ]
     },
     "metadata": {},
     "output_type": "display_data"
    }
   ],
   "source": [
    "# エルボー法\n",
    "wcss =[]\n",
    "# クラスター毎のWCSSの値を求める\n",
    "for i in range(1,10):\n",
    "    kmeans = KMeans(n_clusters=i,            # クラスターの個数\n",
    "                    init='k-means++',           # セントロイドの初期値をランダムに設定  default: 'k-means++'\n",
    "                    n_init=10,               # 異なるセントロイドの初期値を用いたk-meansの実行回数 default: '10' 実行したうちもっとSSE値が小さいモデルを最終モデルとして選択\n",
    "                    max_iter=300,            # k-meansアルゴリズムの内部の最大イテレーション回数  default: '300'\n",
    "                    tol=1e-04,               # 収束と判定するための相対的な許容誤差 default: '1e-04'\n",
    "                    random_state=0) \n",
    "    kmeans.fit(x)\n",
    "    wcss.append(kmeans.inertia_)\n",
    "# クラスターの数とWCSSで散布図を作成\n",
    "plt.plot(range(1,10),wcss,marker='o')\n",
    "# 軸に名前を付ける\n",
    "plt.xlabel('Number of clusters')\n",
    "plt.ylabel('WCSS')"
   ]
  },
  {
   "cell_type": "code",
   "execution_count": 25,
   "id": "99579914-703a-402c-91f0-c9c3f8e5e637",
   "metadata": {},
   "outputs": [],
   "source": [
    "def music_cluster(csv_name, to_csv_name, num):\n",
    "    df = pd.read_csv(csv_name)\n",
    "    # クラスタリング\n",
    "    x=df.iloc[:,6:12]\n",
    "    kmeans = KMeans(n_clusters=num,            # クラスターの個数\n",
    "                init='k-means++',           # セントロイドの初期値をランダムに設定  default: 'k-means++'\n",
    "                n_init=10,               # 異なるセントロイドの初期値を用いたk-meansの実行回数 default: '10' 実行したうちもっとSSE値が小さいモデルを最終モデルとして選択\n",
    "                max_iter=300,            # k-meansアルゴリズムの内部の最大イテレーション回数  default: '300'\n",
    "                tol=1e-04,               # 収束と判定するための相対的な許容誤差 default: '1e-04'\n",
    "                random_state=0)          # セントロイドの初期化に用いる乱数発生器の状態)\n",
    "    # 予測したデータをdfに入れる\n",
    "    df['cluster_pred']=kmeans.fit_predict(x)\n",
    "    df.to_csv(to_csv_name, sep = ',', encoding='utf_8_sig')\n",
    "    \n",
    "def elbow(csv_name): # エルボー法\n",
    "    df = pd.read_csv(csv_name)\n",
    "    x=df.iloc[:,6:12]\n",
    "    wcss =[]\n",
    "    # クラスター毎のWCSSの値を求める\n",
    "    for i in range(10,31,2):\n",
    "        kmeans = KMeans(n_clusters=i,            # クラスターの個数\n",
    "                        init='k-means++',           # セントロイドの初期値をランダムに設定  default: 'k-means++'\n",
    "                        n_init=10,               # 異なるセントロイドの初期値を用いたk-meansの実行回数 default: '10' 実行したうちもっとSSE値が小さいモデルを最終モデルとして選択\n",
    "                        max_iter=300,            # k-meansアルゴリズムの内部の最大イテレーション回数  default: '300'\n",
    "                        tol=1e-04,               # 収束と判定するための相対的な許容誤差 default: '1e-04'\n",
    "                        random_state=0) \n",
    "        kmeans.fit(x)\n",
    "        wcss.append(kmeans.inertia_)\n",
    "    # クラスターの数とWCSSで散布図を作成\n",
    "    plt.plot(range(10,31,2),wcss,marker='o')\n",
    "    # 軸に名前を付ける\n",
    "    plt.xlabel('Number of clusters')\n",
    "    plt.ylabel('WCSS')"
   ]
  },
  {
   "cell_type": "code",
   "execution_count": 26,
   "id": "698c64f1-88c0-49f9-a51c-5d4cc380db2b",
   "metadata": {
    "tags": []
   },
   "outputs": [
    {
     "name": "stderr",
     "output_type": "stream",
     "text": [
      "C:\\anaconda3\\lib\\site-packages\\sklearn\\cluster\\_kmeans.py:1332: UserWarning: KMeans is known to have a memory leak on Windows with MKL, when there are less chunks than available threads. You can avoid it by setting the environment variable OMP_NUM_THREADS=1.\n",
      "  warnings.warn(\n",
      "C:\\anaconda3\\lib\\site-packages\\sklearn\\cluster\\_kmeans.py:1332: UserWarning: KMeans is known to have a memory leak on Windows with MKL, when there are less chunks than available threads. You can avoid it by setting the environment variable OMP_NUM_THREADS=1.\n",
      "  warnings.warn(\n",
      "C:\\anaconda3\\lib\\site-packages\\sklearn\\cluster\\_kmeans.py:1332: UserWarning: KMeans is known to have a memory leak on Windows with MKL, when there are less chunks than available threads. You can avoid it by setting the environment variable OMP_NUM_THREADS=1.\n",
      "  warnings.warn(\n",
      "C:\\anaconda3\\lib\\site-packages\\sklearn\\cluster\\_kmeans.py:1332: UserWarning: KMeans is known to have a memory leak on Windows with MKL, when there are less chunks than available threads. You can avoid it by setting the environment variable OMP_NUM_THREADS=1.\n",
      "  warnings.warn(\n",
      "C:\\anaconda3\\lib\\site-packages\\sklearn\\cluster\\_kmeans.py:1332: UserWarning: KMeans is known to have a memory leak on Windows with MKL, when there are less chunks than available threads. You can avoid it by setting the environment variable OMP_NUM_THREADS=1.\n",
      "  warnings.warn(\n",
      "C:\\anaconda3\\lib\\site-packages\\sklearn\\cluster\\_kmeans.py:1332: UserWarning: KMeans is known to have a memory leak on Windows with MKL, when there are less chunks than available threads. You can avoid it by setting the environment variable OMP_NUM_THREADS=1.\n",
      "  warnings.warn(\n",
      "C:\\anaconda3\\lib\\site-packages\\sklearn\\cluster\\_kmeans.py:1332: UserWarning: KMeans is known to have a memory leak on Windows with MKL, when there are less chunks than available threads. You can avoid it by setting the environment variable OMP_NUM_THREADS=1.\n",
      "  warnings.warn(\n",
      "C:\\anaconda3\\lib\\site-packages\\sklearn\\cluster\\_kmeans.py:1332: UserWarning: KMeans is known to have a memory leak on Windows with MKL, when there are less chunks than available threads. You can avoid it by setting the environment variable OMP_NUM_THREADS=1.\n",
      "  warnings.warn(\n",
      "C:\\anaconda3\\lib\\site-packages\\sklearn\\cluster\\_kmeans.py:1332: UserWarning: KMeans is known to have a memory leak on Windows with MKL, when there are less chunks than available threads. You can avoid it by setting the environment variable OMP_NUM_THREADS=1.\n",
      "  warnings.warn(\n",
      "C:\\anaconda3\\lib\\site-packages\\sklearn\\cluster\\_kmeans.py:1332: UserWarning: KMeans is known to have a memory leak on Windows with MKL, when there are less chunks than available threads. You can avoid it by setting the environment variable OMP_NUM_THREADS=1.\n",
      "  warnings.warn(\n",
      "C:\\anaconda3\\lib\\site-packages\\sklearn\\cluster\\_kmeans.py:1332: UserWarning: KMeans is known to have a memory leak on Windows with MKL, when there are less chunks than available threads. You can avoid it by setting the environment variable OMP_NUM_THREADS=1.\n",
      "  warnings.warn(\n"
     ]
    },
    {
     "data": {
      "image/png": "[encoded data removed]",
      "text/plain": [
       "<Figure size 432x288 with 1 Axes>"
      ]
     },
     "metadata": {},
     "output_type": "display_data"
    }
   ],
   "source": [
    "elbow('spotify_data_vocaloid_mm.csv')"
   ]
  },
  {
   "cell_type": "code",
   "execution_count": 49,
   "id": "53a154aa-b215-4da2-9ca9-f224f9031b5f",
   "metadata": {
    "collapsed": true,
    "jupyter": {
     "outputs_hidden": true
    },
    "tags": []
   },
   "outputs": [
    {
     "name": "stderr",
     "output_type": "stream",
     "text": [
      "C:\\anaconda3\\lib\\site-packages\\sklearn\\cluster\\_kmeans.py:1332: UserWarning: KMeans is known to have a memory leak on Windows with MKL, when there are less chunks than available threads. You can avoid it by setting the environment variable OMP_NUM_THREADS=1.\n",
      "  warnings.warn(\n",
      "C:\\anaconda3\\lib\\site-packages\\sklearn\\cluster\\_kmeans.py:1332: UserWarning: KMeans is known to have a memory leak on Windows with MKL, when there are less chunks than available threads. You can avoid it by setting the environment variable OMP_NUM_THREADS=1.\n",
      "  warnings.warn(\n",
      "C:\\anaconda3\\lib\\site-packages\\sklearn\\cluster\\_kmeans.py:1332: UserWarning: KMeans is known to have a memory leak on Windows with MKL, when there are less chunks than available threads. You can avoid it by setting the environment variable OMP_NUM_THREADS=1.\n",
      "  warnings.warn(\n",
      "C:\\anaconda3\\lib\\site-packages\\sklearn\\cluster\\_kmeans.py:1332: UserWarning: KMeans is known to have a memory leak on Windows with MKL, when there are less chunks than available threads. You can avoid it by setting the environment variable OMP_NUM_THREADS=1.\n",
      "  warnings.warn(\n",
      "C:\\anaconda3\\lib\\site-packages\\sklearn\\cluster\\_kmeans.py:1332: UserWarning: KMeans is known to have a memory leak on Windows with MKL, when there are less chunks than available threads. You can avoid it by setting the environment variable OMP_NUM_THREADS=1.\n",
      "  warnings.warn(\n",
      "C:\\anaconda3\\lib\\site-packages\\sklearn\\cluster\\_kmeans.py:1332: UserWarning: KMeans is known to have a memory leak on Windows with MKL, when there are less chunks than available threads. You can avoid it by setting the environment variable OMP_NUM_THREADS=1.\n",
      "  warnings.warn(\n",
      "C:\\anaconda3\\lib\\site-packages\\sklearn\\cluster\\_kmeans.py:1332: UserWarning: KMeans is known to have a memory leak on Windows with MKL, when there are less chunks than available threads. You can avoid it by setting the environment variable OMP_NUM_THREADS=1.\n",
      "  warnings.warn(\n",
      "C:\\anaconda3\\lib\\site-packages\\sklearn\\cluster\\_kmeans.py:1332: UserWarning: KMeans is known to have a memory leak on Windows with MKL, when there are less chunks than available threads. You can avoid it by setting the environment variable OMP_NUM_THREADS=1.\n",
      "  warnings.warn(\n",
      "C:\\anaconda3\\lib\\site-packages\\sklearn\\cluster\\_kmeans.py:1332: UserWarning: KMeans is known to have a memory leak on Windows with MKL, when there are less chunks than available threads. You can avoid it by setting the environment variable OMP_NUM_THREADS=1.\n",
      "  warnings.warn(\n",
      "C:\\anaconda3\\lib\\site-packages\\sklearn\\cluster\\_kmeans.py:1332: UserWarning: KMeans is known to have a memory leak on Windows with MKL, when there are less chunks than available threads. You can avoid it by setting the environment variable OMP_NUM_THREADS=1.\n",
      "  warnings.warn(\n"
     ]
    },
    {
     "data": {
      "image/png": "[encoded data removed]",
      "text/plain": [
       "<Figure size 432x288 with 1 Axes>"
      ]
     },
     "metadata": {},
     "output_type": "display_data"
    }
   ],
   "source": [
    "elbow('spotify_data_JP_famous_mm.csv')"
   ]
  },
  {
   "cell_type": "code",
   "execution_count": 37,
   "id": "e557d7c1-2af4-45dc-8e52-cb74ed791f95",
   "metadata": {},
   "outputs": [
    {
     "name": "stderr",
     "output_type": "stream",
     "text": [
      "C:\\anaconda3\\lib\\site-packages\\sklearn\\cluster\\_kmeans.py:1332: UserWarning: KMeans is known to have a memory leak on Windows with MKL, when there are less chunks than available threads. You can avoid it by setting the environment variable OMP_NUM_THREADS=1.\n",
      "  warnings.warn(\n",
      "C:\\anaconda3\\lib\\site-packages\\sklearn\\cluster\\_kmeans.py:1332: UserWarning: KMeans is known to have a memory leak on Windows with MKL, when there are less chunks than available threads. You can avoid it by setting the environment variable OMP_NUM_THREADS=2.\n",
      "  warnings.warn(\n",
      "C:\\anaconda3\\lib\\site-packages\\sklearn\\cluster\\_kmeans.py:1332: UserWarning: KMeans is known to have a memory leak on Windows with MKL, when there are less chunks than available threads. You can avoid it by setting the environment variable OMP_NUM_THREADS=1.\n",
      "  warnings.warn(\n"
     ]
    }
   ],
   "source": [
    "music_cluster('spotify_data_global_mm.csv','spotify_data_global_mm_cluster.csv',10)\n",
    "music_cluster('spotify_data_JP_famous_mm.csv','spotify_data_JP_famous_mm_cluster.csv',20)\n",
    "music_cluster('spotify_data_vocaloid_mm.csv','spotify_data_vocaloid_mm_cluster.csv',8)"
   ]
  },
  {
   "cell_type": "code",
   "execution_count": 41,
   "id": "8b72a571-f3fd-406a-8cd0-9c0ba674fe88",
   "metadata": {},
   "outputs": [],
   "source": [
    "data=['spotify_data_global_mm_cluster.csv','spotify_data_JP_famous_mm_cluster.csv','spotify_data_vocaloid_mm_cluster.csv']\n",
    "for i in range(len(data)):\n",
    "    df=pd.read_csv(data[i])\n",
    "    df=df.iloc[:,2:]\n",
    "    df.to_csv(data[i], sep = ',', encoding='utf_8_sig')"
   ]
  },
  {
   "cell_type": "code",
   "execution_count": 90,
   "id": "c12d3e55-c883-4fb9-96d7-027d60648c19",
   "metadata": {},
   "outputs": [
    {
     "name": "stdout",
     "output_type": "stream",
     "text": [
      "脱法ロック 3\n",
      "DAYBREAK FRONTLINE 3\n"
     ]
    }
   ],
   "source": [
    "# 同じクラスタの曲をおすすめする関数\n",
    "df=pd.read_csv(data[2]).iloc[:,1:]\n",
    "min_i=120\n",
    "name=df.values[min_i][0]\n",
    "cluster=df.values[min_i][14]\n",
    "print(name,cluster)\n",
    "cnt=0\n",
    "while cnt==0:\n",
    "    rand=random.randrange(len(df))\n",
    "    if df.values[rand][14]==cluster:\n",
    "        new_name=df.values[rand][0]\n",
    "        new_cluster=df.values[rand][14]\n",
    "        if new_name!=name:\n",
    "            cnt=1\n",
    "print(new_name,new_cluster)"
   ]
  },
  {
   "cell_type": "code",
   "execution_count": 104,
   "id": "19ac4b15-806b-425f-8a52-dd9ae95a465d",
   "metadata": {},
   "outputs": [],
   "source": [
    "def cluster_recommend(name,df):\n",
    "    data=['name', 'artist', 'release_date', 'length', 'popularity', 'danceability', 'acousticness', 'energy', 'loudness', 'tempo',  'valence', 'url', 'image', 'audio', 'cluster_pred']\n",
    "    df = df[data]\n",
    "    for i in range(len(df)):\n",
    "        if df.values[i][0]==name:\n",
    "            min_i=i\n",
    "            break\n",
    "            \n",
    "    cluster=df.values[min_i][14]\n",
    "    cnt=0\n",
    "    while cnt==0:\n",
    "        rand=random.randrange(len(df))\n",
    "        if df.values[rand][14]==cluster:\n",
    "            new_name=df.values[rand][0]\n",
    "            new_cluster=df.values[rand][14]\n",
    "            if new_name!=name:\n",
    "                cnt=1\n",
    "    return rand"
   ]
  },
  {
   "cell_type": "code",
   "execution_count": 116,
   "id": "a7f50bc4-2c45-42d1-b720-ad5a516f0319",
   "metadata": {},
   "outputs": [
    {
     "data": {
      "text/plain": [
       "245"
      ]
     },
     "execution_count": 116,
     "metadata": {},
     "output_type": "execute_result"
    }
   ],
   "source": [
    "df = pd.read_csv('spotify_data_JP_famous_mm_cluster.csv')\n",
    "#display(df)\n",
    "name='Alive'\n",
    "cluster_recommend(name,df)"
   ]
  },
  {
   "cell_type": "code",
   "execution_count": 65,
   "id": "22525cf4-10a5-45df-97c9-a8097ba0fe64",
   "metadata": {},
   "outputs": [
    {
     "name": "stdout",
     "output_type": "stream",
     "text": [
      "391\n"
     ]
    }
   ],
   "source": [
    "df=pd.read_csv(data[1]).iloc[:,1:]\n",
    "print(len(df))"
   ]
  },
  {
   "cell_type": "code",
   "execution_count": 36,
   "id": "bc4bf156-0374-4006-9ec2-5cdf76c86a0d",
   "metadata": {},
   "outputs": [
    {
     "data": {
      "image/png": "[encoded data removed]",
      "text/plain": [
       "<Figure size 432x288 with 2 Axes>"
      ]
     },
     "metadata": {},
     "output_type": "display_data"
    }
   ],
   "source": [
    "df=pd.read_csv('spotify_data_vocaloid_mm.csv')\n",
    "df=df.iloc[:,1:].corr()\n",
    "# ヒートマップ\n",
    "hm = sns.heatmap(df, cmap=None, annot=True, xticklabels=list(df.columns), yticklabels=list(df.columns),vmin=-1, vmax=1)\n",
    "# グラフ可視化\n",
    "plt.tight_layout()\n",
    "plt.show()"
   ]
  },
  {
   "cell_type": "code",
   "execution_count": 45,
   "id": "1aa23f28-658b-4cd5-9d92-525c6fd8d62d",
   "metadata": {},
   "outputs": [
    {
     "data": {
      "text/plain": [
       "Text(0, 0.5, 'energy')"
      ]
     },
     "execution_count": 45,
     "metadata": {},
     "output_type": "execute_result"
    },
    {
     "data": {
      "image/png": "[encoded data removed]",
      "text/plain": [
       "<Figure size 432x288 with 1 Axes>"
      ]
     },
     "metadata": {},
     "output_type": "display_data"
    }
   ],
   "source": [
    "df=pd.read_csv('spotify_data_JP_famous_mm.csv')\n",
    "plt.scatter(df['loudness'],df['energy'],c=df['cluster_pred'],cmap='rainbow')\n",
    "plt.xlabel('loudness')\n",
    "plt.ylabel('energy')"
   ]
  }
 ],
 "metadata": {
  "kernelspec": {
   "display_name": "Python 3 (ipykernel)",
   "language": "python",
   "name": "python3"
  },
  "language_info": {
   "codemirror_mode": {
    "name": "ipython",
    "version": 3
   },
   "file_extension": ".py",
   "mimetype": "text/x-python",
   "name": "python",
   "nbconvert_exporter": "python",
   "pygments_lexer": "ipython3",
   "version": "3.9.7"
  }
 },
 "nbformat": 4,
 "nbformat_minor": 5
}
